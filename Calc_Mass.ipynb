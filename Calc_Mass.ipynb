{
  "nbformat": 4,
  "nbformat_minor": 0,
  "metadata": {
    "colab": {
      "name": "Calc_Mass.ipynb",
      "provenance": [],
      "collapsed_sections": []
    },
    "kernelspec": {
      "name": "python3",
      "display_name": "Python 3"
    },
    "language_info": {
      "name": "python"
    }
  },
  "cells": [
    {
      "cell_type": "code",
      "source": [
        "# run once and restart\n",
        "!pip install fastai==2.2.7\n",
        "!pip install -Uqq fastbook"
      ],
      "metadata": {
        "id": "yY4kBzR3aP9L"
      },
      "execution_count": null,
      "outputs": []
    },
    {
      "cell_type": "code",
      "execution_count": 1,
      "metadata": {
        "colab": {
          "base_uri": "https://localhost:8080/"
        },
        "id": "4hrpW3yPXJWN",
        "outputId": "91d8c2a1-1a8f-4627-c714-8b9a5f03cdf8"
      },
      "outputs": [
        {
          "output_type": "stream",
          "name": "stdout",
          "text": [
            "Drive already mounted at /content/drive; to attempt to forcibly remount, call drive.mount(\"/content/drive\", force_remount=True).\n"
          ]
        }
      ],
      "source": [
        "from google.colab import drive\n",
        "drive.mount('/content/drive')"
      ]
    },
    {
      "cell_type": "code",
      "source": [
        "import pandas as pd\n",
        "from sklearn.utils import shuffle\n",
        "import gc\n",
        "import math"
      ],
      "metadata": {
        "id": "y7JXqucTZZIe"
      },
      "execution_count": 2,
      "outputs": []
    },
    {
      "cell_type": "code",
      "source": [
        "reduced_path = 'drive/MyDrive/Dat255 reduced files50/'\n",
        "\n",
        "diboson     = pd.read_pickle(reduced_path +'diboson.pkl')\n",
        "DYee     = pd.read_pickle(reduced_path +'DYee.pkl')\n",
        "DYmumu     = pd.read_pickle( reduced_path  + 'DYmumu.pkl')\n",
        "DYtautau    = pd.read_pickle( reduced_path  + 'DYtautau.pkl')\n",
        "ttbar_lep     = pd.read_pickle( reduced_path  + 'ttbar_lep.pkl')\n",
        "Wenu     = pd.read_pickle( reduced_path  + 'Wenu.pkl')\n",
        "Wmunu     = pd.read_pickle( reduced_path  + 'Wmunu.pkl')\n",
        "Wtaunu     = pd.read_pickle( reduced_path  + 'Wtaunu.pkl')\n",
        "Zee     = pd.read_pickle( reduced_path  + 'Zee.pkl')\n",
        "ttbar_had     = pd.read_pickle( reduced_path  + 'ttbar_had.pkl')\n",
        "Ztautau     = pd.read_pickle( reduced_path  + 'Ztautau.pkl')\n",
        "signal     = pd.read_pickle(reduced_path  + 'signal.pkl')\n",
        "\n"
      ],
      "metadata": {
        "id": "3AR8r3xJX-tW"
      },
      "execution_count": 3,
      "outputs": []
    },
    {
      "cell_type": "code",
      "source": [
        "diboson     = diboson.loc[:,~diboson.columns.duplicated()]\n",
        "DYee        = DYee.loc[:,~DYee.columns.duplicated()]\n",
        "DYmumu      = DYmumu.loc[:,~DYmumu.columns.duplicated()]\n",
        "DYtautau    = DYtautau.loc[:,~DYtautau.columns.duplicated()]\n",
        "ttbar_lep   = ttbar_lep.loc[:,~ttbar_lep.columns.duplicated()]\n",
        "Wenu        = Wenu.loc[:,~Wenu.columns.duplicated()]\n",
        "Wmunu       = Wmunu.loc[:,~Wmunu.columns.duplicated()]\n",
        "Wtaunu      = Wtaunu.loc[:,~Wtaunu.columns.duplicated()]\n",
        "Zee         = Zee.loc[:,~Zee.columns.duplicated()]\n",
        "ttbar_had   = ttbar_had.loc[:,~ttbar_had.columns.duplicated()]\n",
        "Ztautau     = Ztautau.loc[:,~Ztautau.columns.duplicated()]\n",
        "signal      = signal.loc[:,~signal.columns.duplicated()]\n"
      ],
      "metadata": {
        "id": "I3WpgiIWYIet"
      },
      "execution_count": 4,
      "outputs": []
    },
    {
      "cell_type": "code",
      "source": [
        "diboson = shuffle(diboson, random_state = 42)\n",
        "DYee = shuffle(DYee, random_state = 42)\n",
        "DYmumu = shuffle(DYmumu, random_state = 42)\n",
        "DYtautau = shuffle(DYtautau, random_state = 42)\n",
        "ttbar_lep = shuffle(ttbar_lep, random_state = 42)\n",
        "Wenu = shuffle(Wenu, random_state = 42)\n",
        "Wmunu = shuffle(Wmunu, random_state = 42)\n",
        "Wtaunu = shuffle(Wtaunu, random_state = 42)\n",
        "Zee = shuffle(Zee, random_state = 42)\n",
        "ttbar_had = shuffle(ttbar_had, random_state = 42)\n",
        "Ztautau = shuffle(Ztautau, random_state = 42)\n",
        "signal = shuffle(signal, random_state = 42)"
      ],
      "metadata": {
        "id": "-k8ypTEsYE98"
      },
      "execution_count": 5,
      "outputs": []
    },
    {
      "cell_type": "code",
      "source": [
        "background = [diboson, DYee, DYmumu, DYtautau, ttbar_lep, Wenu, Wmunu, Wtaunu, Zee, ttbar_had, Ztautau]\n",
        "backgroundLabel = ['diboson', 'DYee', 'DYmumu', 'DYtautau', 'ttbar_lep', 'Wenu', 'Wmunu', 'Wtaunu', 'Zee', 'ttbar_had', 'Ztautau']\n"
      ],
      "metadata": {
        "id": "rHgHomTXYIFP"
      },
      "execution_count": 6,
      "outputs": []
    },
    {
      "cell_type": "code",
      "source": [
        "del Zee\n",
        "del ttbar_lep\n",
        "del DYmumu\n",
        "del DYee\n",
        "del diboson\n",
        "del Wenu\n",
        "del Ztautau\n",
        "gc.collect()"
      ],
      "metadata": {
        "colab": {
          "base_uri": "https://localhost:8080/"
        },
        "id": "lz5kltH7YLF_",
        "outputId": "c81d6941-4b64-46fb-d96f-bef6473495b4"
      },
      "execution_count": 7,
      "outputs": [
        {
          "output_type": "execute_result",
          "data": {
            "text/plain": [
              "202"
            ]
          },
          "metadata": {},
          "execution_count": 7
        }
      ]
    },
    {
      "cell_type": "code",
      "source": [
        "\n",
        "features_from_feature_importance = [\n",
        "                                    \"met_et\",\n",
        "                                    \"lep_1_E\",\n",
        "                                    \"lep_2_E\",\n",
        "                                    \"lep_3_E\",\n",
        "                                    \"lep_1_eta\",\n",
        "                                    \"lep_2_eta\",\n",
        "                                    \"jet_n\",\n",
        "                                    \"lep_1_pt\",\n",
        "                                    \"lep_2_pt\",\n",
        "                                    \"lep_3_pt\",\n",
        "                                    \"lep_4_pt\",\n",
        "                                    \"lep_5_pt\",\n",
        "                                    \"lep_1_phi\",\n",
        "                                    \"lep_2_phi\",\n",
        "                                    \"jet_2_trueflav\",\n",
        "                                    \"jet_1_E\",\n",
        "                                    \"jet_3_E\",\n",
        "                                    \"jet_1_pt\",\n",
        "                                    \"jet_2_pt\",\n",
        "                                    \"jet_3_pt\",\n",
        "                                    \"jet_4_pt\",\n",
        "                                    \"jet_5_pt\",\n",
        "                                    \"jet_6_pt\",\n",
        "                                    \"jet_7_pt\",\n",
        "                                    \"jet_8_pt\",\n",
        "                                    \"jet_9_pt\",\n",
        "                                    \"alljet_n\",\n",
        "                                    \"lep_1_etcone20\",\n",
        "                                    \"jet_2_MV1\",\n",
        "                                    \"jet_1_MV1\",\n",
        "                                    \"jet_1_phi\",\n",
        "                                    \"jet_1_m\",\n",
        "                                    \"jet_2_E\",\n",
        "                                    \"jet_2_jvf\",\n",
        "                                    \"jet_1_SV0\",\n",
        "                                    ]\n",
        "\n",
        "\n",
        "invariant_features = [ 'lep_1_pt',\n",
        "                       'lep_1_eta',\n",
        "                       'lep_1_phi',\n",
        "                       'lep_1_type',\n",
        "                       'lep_1_charge',\n",
        "                       'lep_1_E',\n",
        "                       'lep_2_pt',\n",
        "                       'lep_2_eta',\n",
        "                       'lep_2_phi',\n",
        "                       'lep_2_type',\n",
        "                       'lep_2_charge',\n",
        "                       'lep_2_E',\n",
        "                       'jet_1_pt',\n",
        "                       'jet_1_eta',\n",
        "                       'jet_1_phi',\n",
        "                       'jet_2_pt',\n",
        "                       'jet_2_eta',\n",
        "                       'jet_2_phi',\n",
        "          \n",
        "] \n"
      ],
      "metadata": {
        "id": "_iAsCxS0Ydpq"
      },
      "execution_count": 8,
      "outputs": []
    },
    {
      "cell_type": "code",
      "source": [
        "features_and_weights = list(set(features_from_feature_importance + invariant_features))\n",
        "features = features_and_weights"
      ],
      "metadata": {
        "id": "7czpDRoDYdnP"
      },
      "execution_count": 9,
      "outputs": []
    },
    {
      "cell_type": "code",
      "source": [
        "for i in range(0,11):\n",
        "  background[i]['data_type'] = 0\n",
        "\n",
        "signal['data_type'] = 1\n",
        "\n",
        "features.append('data_type')"
      ],
      "metadata": {
        "id": "dT7x7joLYdh7"
      },
      "execution_count": 10,
      "outputs": []
    },
    {
      "cell_type": "code",
      "source": [
        "def train_valid_test_split(df, test_pct, valid_pct):\n",
        "  number_of_train_valid_rows = math.floor(df.shape[0] * (1 - test_pct))\n",
        "  df_train_valid ,df_test = df.iloc[:number_of_train_valid_rows].copy(),df.iloc[number_of_train_valid_rows:].copy() \n",
        "\n",
        "  number_of_train_rows = math.floor(df_train_valid.shape[0] * (1 - valid_pct))\n",
        "  df_train, df_valid = df_train_valid.iloc[:number_of_train_rows].copy(),df_train_valid.iloc[number_of_train_rows:].copy() \n",
        "\n",
        "  return df_train, df_valid, df_test"
      ],
      "metadata": {
        "id": "g4ayfLCVYjm0"
      },
      "execution_count": 11,
      "outputs": []
    },
    {
      "cell_type": "code",
      "source": [
        "background_train = [None]*len(background)\n",
        "background_valid = [None]*len(background)\n",
        "background_test = [None]*len(background)\n",
        "\n",
        "for i in range(len(background)):\n",
        "  background[i].reset_index()\n",
        "  background_train[i], background_valid[i], background_test[i] = train_valid_test_split(background[i], 0.6, 0.3)"
      ],
      "metadata": {
        "id": "SVszf5qfYlHG"
      },
      "execution_count": 12,
      "outputs": []
    },
    {
      "cell_type": "code",
      "source": [
        "signal.reset_index()\n",
        "signal_train, signal_valid, signal_test = train_valid_test_split(signal, 0.6, 0.3)"
      ],
      "metadata": {
        "id": "bNpqqnTTYmTf"
      },
      "execution_count": 13,
      "outputs": []
    },
    {
      "cell_type": "code",
      "source": [
        "# Only interested in a test set.\n",
        "# We are now using half the data, so the test set is quite large.\n",
        "\n",
        "df_test =  pd.concat(\n",
        "    [background_test[0][features],\n",
        "    background_test[1][features],\n",
        "    background_test[2][features],\n",
        "    background_test[3][features],\n",
        "    background_test[4][features],\n",
        "    background_test[5][features],\n",
        "    background_test[6][features],\n",
        "    background_test[7][features],\n",
        "    background_test[8][features],\n",
        "    background_test[9][features],\n",
        "    background_test[10][features],\n",
        "    signal_test[features]]\n",
        ")\n",
        "features.remove('data_type')"
      ],
      "metadata": {
        "id": "ZfcnAPXyYnlL"
      },
      "execution_count": 14,
      "outputs": []
    },
    {
      "cell_type": "markdown",
      "source": [
        "# Import the Neural Network\n",
        "\n",
        "and predict on the test set."
      ],
      "metadata": {
        "id": "SlF_9mlpaFr4"
      }
    },
    {
      "cell_type": "code",
      "source": [
        "import numpy as np\n",
        "from fastai import *\n",
        "from fastai.vision import *\n",
        "from fastai.tabular.all import *\n",
        "import fastbook"
      ],
      "metadata": {
        "id": "39grgOXsaQAe"
      },
      "execution_count": 15,
      "outputs": []
    },
    {
      "cell_type": "code",
      "source": [
        "import matplotlib.pyplot as plt"
      ],
      "metadata": {
        "id": "qZvPXO1YaQEJ"
      },
      "execution_count": 16,
      "outputs": []
    },
    {
      "cell_type": "code",
      "source": [
        "# One of the best performing NN-models on the 10% dataset\n",
        "learner =load_learner(\"drive/MyDrive/Colab Notebooks/model.pkl\")"
      ],
      "metadata": {
        "id": "zQc9SK_SaQG_"
      },
      "execution_count": 17,
      "outputs": []
    },
    {
      "cell_type": "code",
      "source": [
        "seed = 42"
      ],
      "metadata": {
        "id": "te9DswoBaQJo"
      },
      "execution_count": 18,
      "outputs": []
    },
    {
      "cell_type": "code",
      "source": [
        "# mean normalize test data \n",
        "df_test_norm = df_test.copy(deep=True)"
      ],
      "metadata": {
        "id": "m4cFV3UIaQME"
      },
      "execution_count": 19,
      "outputs": []
    },
    {
      "cell_type": "code",
      "source": [
        "[df_test_norm[col].update((df_test_norm[col] - df_test_norm[col].min()) / (df_test_norm[col].max() - df_test_norm[col].min())) for col in df_test_norm[features].columns]\n",
        "print(\"\")"
      ],
      "metadata": {
        "colab": {
          "base_uri": "https://localhost:8080/"
        },
        "id": "eAmCzOIvcmKw",
        "outputId": "d642a097-a1d7-4aa1-a27a-a45760aca07f"
      },
      "execution_count": 20,
      "outputs": [
        {
          "output_type": "stream",
          "name": "stdout",
          "text": [
            "\n"
          ]
        }
      ]
    },
    {
      "cell_type": "code",
      "source": [
        "dl = learner.dls.test_dl(df_test_norm)"
      ],
      "metadata": {
        "id": "3lkM6gP5eDym"
      },
      "execution_count": 23,
      "outputs": []
    },
    {
      "cell_type": "code",
      "source": [
        "preds, real = learner.get_preds(dl=dl)"
      ],
      "metadata": {
        "colab": {
          "base_uri": "https://localhost:8080/",
          "height": 17
        },
        "id": "60ckjF6he-Ys",
        "outputId": "7243d797-64e6-4e75-ad4f-4931ec1e767c"
      },
      "execution_count": 24,
      "outputs": [
        {
          "output_type": "display_data",
          "data": {
            "text/plain": [
              "<IPython.core.display.HTML object>"
            ],
            "text/html": [
              "\n",
              "<style>\n",
              "    /* Turns off some styling */\n",
              "    progress {\n",
              "        /* gets rid of default border in Firefox and Opera. */\n",
              "        border: none;\n",
              "        /* Needs to be in here for Safari polyfill so background images work as expected. */\n",
              "        background-size: auto;\n",
              "    }\n",
              "    .progress-bar-interrupted, .progress-bar-interrupted::-webkit-progress-bar {\n",
              "        background: #F44336;\n",
              "    }\n",
              "</style>\n"
            ]
          },
          "metadata": {}
        },
        {
          "output_type": "display_data",
          "data": {
            "text/plain": [
              "<IPython.core.display.HTML object>"
            ],
            "text/html": [
              ""
            ]
          },
          "metadata": {}
        }
      ]
    },
    {
      "cell_type": "code",
      "source": [
        "# If confidence is over 50 either way it labels it acordingly\n",
        "def get_predictions_int(predictions):\n",
        "  predicted = []\n",
        "  for i in predictions:\n",
        "    if i[0] > i[1]:\n",
        "      predicted.append(0)\n",
        "    else:\n",
        "      predicted.append(1)\n",
        "  return predicted"
      ],
      "metadata": {
        "id": "9motqD6cg_ey"
      },
      "execution_count": 27,
      "outputs": []
    },
    {
      "cell_type": "code",
      "source": [
        "preds_int = get_predictions_int(preds)"
      ],
      "metadata": {
        "id": "yz1Gl7fEgXiq"
      },
      "execution_count": 29,
      "outputs": []
    },
    {
      "cell_type": "code",
      "source": [
        "df_test['predictions'] = preds_int"
      ],
      "metadata": {
        "id": "PiAiqQJhfAxY"
      },
      "execution_count": 30,
      "outputs": []
    },
    {
      "cell_type": "code",
      "source": [
        "df_test.shape"
      ],
      "metadata": {
        "colab": {
          "base_uri": "https://localhost:8080/"
        },
        "id": "k7s_NE6PikGK",
        "outputId": "27c1c69a-c39f-475f-d319-4fd7b0f574b7"
      },
      "execution_count": 32,
      "outputs": [
        {
          "output_type": "execute_result",
          "data": {
            "text/plain": [
              "(3429875, 44)"
            ]
          },
          "metadata": {},
          "execution_count": 32
        }
      ]
    },
    {
      "cell_type": "code",
      "source": [
        "# split the signal from the background \n",
        "predicted_signal_df     = df_test.loc[df_test['predictions'] == 1]\n",
        "actual_signal_df        = df_test.loc[df_test['data_type'] == 1]"
      ],
      "metadata": {
        "id": "cdIxGcgrfFlf"
      },
      "execution_count": 40,
      "outputs": []
    },
    {
      "cell_type": "code",
      "source": [
        "predicted_signal_df.head()"
      ],
      "metadata": {
        "id": "okgIV9Gxh9aM"
      },
      "execution_count": null,
      "outputs": []
    },
    {
      "cell_type": "markdown",
      "source": [
        "# Calculating the mass\n",
        "\n",
        "now that we have a unormalized dataframe with all the predictions\n",
        "\n",
        "we can now calculate the mass of the ones that were predicted as Signal\n",
        "\n",
        "![image.png](data:image/png;base64,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)"
      ],
      "metadata": {
        "id": "3jFeC7Muh-8e"
      }
    },
    {
      "cell_type": "code",
      "source": [
        "# Returns M\n",
        "def invariant_mass(pt1,pt2,eta1,eta2,phi1,phi2):\n",
        "   return np.sqrt(2 * (pt1 * pt2) * (np.cosh(eta1 - eta2) - np.cos(phi1 - phi2)))"
      ],
      "metadata": {
        "id": "uE4vWAKzyzoq"
      },
      "execution_count": 35,
      "outputs": []
    },
    {
      "cell_type": "code",
      "source": [
        "def plot_mass(mass, bins=50, log=False):\n",
        "  plt.figure(figsize=(12,8))\n",
        "  plt.xlabel('Invariant Mass')\n",
        "  plt.ylabel('events')\n",
        "  if type(bins) == int:\n",
        "    plt.title(f\"Signal - Electron - bins = {bins}\")\n",
        "  else:\n",
        "    plt.title(\"Signal - Electron\")\n",
        "\n",
        "  axes = plt.gca()\n",
        "\n",
        "  if log:\n",
        "    plt.yscale('log')\n",
        "    plt.title(axes.get_title() + \" - log\")\n",
        "  \n",
        "  plt.hist(mass, bins=bins, histtype=\"step\")\n",
        "  print(\"\\n\")"
      ],
      "metadata": {
        "id": "MUp-fFiVi4JX"
      },
      "execution_count": 53,
      "outputs": []
    },
    {
      "cell_type": "code",
      "source": [
        "def plot_leps_and_jets(invariant_df, bins=50, log=False):\n",
        "  plot_mass(invariant_mass(\n",
        "      invariant_df['lep_1_pt'],\n",
        "      invariant_df['lep_2_pt'],\n",
        "      invariant_df['lep_1_eta'],\n",
        "      invariant_df['lep_2_eta'],\n",
        "      invariant_df['lep_1_phi'],\n",
        "      invariant_df['lep_2_phi']\n",
        "  ),bins=bins, log=log)\n",
        "\n",
        "  plot_mass(invariant_mass(\n",
        "      invariant_df['jet_1_pt'],\n",
        "      invariant_df['jet_2_pt'],\n",
        "      invariant_df['jet_1_eta'],\n",
        "      invariant_df['jet_2_eta'],\n",
        "      invariant_df['jet_1_phi'],\n",
        "      invariant_df['jet_2_phi']\n",
        "  ),bins=bins, log=log)\n"
      ],
      "metadata": {
        "id": "dob0kjyki9hC"
      },
      "execution_count": 54,
      "outputs": []
    },
    {
      "cell_type": "markdown",
      "source": [
        "# Graphs showing invariant mass\n",
        "\n",
        "Log version included further below, might not be as usefull as the data set is fairly small compared to the full data set."
      ],
      "metadata": {
        "id": "oMIkz29hmh0N"
      }
    },
    {
      "cell_type": "code",
      "source": [
        "# predicted no log\n",
        "plot_leps_and_jets(predicted_signal_df, bins=np.linspace(0,600e3,100))"
      ],
      "metadata": {
        "colab": {
          "base_uri": "https://localhost:8080/",
          "height": 1000
        },
        "id": "aChsD1SXi_8e",
        "outputId": "c6f500b8-f63b-4bfd-e502-496b495a1f5e"
      },
      "execution_count": 68,
      "outputs": [
        {
          "output_type": "stream",
          "name": "stdout",
          "text": [
            "\n",
            "\n",
            "\n",
            "\n"
          ]
        },
        {
          "output_type": "display_data",
          "data": {
            "text/plain": [
              "<Figure size 864x576 with 1 Axes>"
            ],
            "image/png": "[encoded data removed]"
          },
          "metadata": {
            "needs_background": "light"
          }
        },
        {
          "output_type": "display_data",
          "data": {
            "text/plain": [
              "<Figure size 864x576 with 1 Axes>"
            ],
            "image/png": "[encoded data removed]"
          },
          "metadata": {
            "needs_background": "light"
          }
        }
      ]
    },
    {
      "cell_type": "code",
      "source": [
        "# actual no log\n",
        "plot_leps_and_jets(actual_signal_df , bins=np.linspace(0,600e3,100))"
      ],
      "metadata": {
        "colab": {
          "base_uri": "https://localhost:8080/",
          "height": 1000
        },
        "id": "6jKtLTT4jEoR",
        "outputId": "70d9433e-8f51-4d54-e5be-72b0d7ec9b3b"
      },
      "execution_count": 62,
      "outputs": [
        {
          "output_type": "stream",
          "name": "stdout",
          "text": [
            "\n",
            "\n",
            "\n",
            "\n"
          ]
        },
        {
          "output_type": "display_data",
          "data": {
            "text/plain": [
              "<Figure size 864x576 with 1 Axes>"
            ],
            "image/png": "[encoded data removed]"
          },
          "metadata": {
            "needs_background": "light"
          }
        },
        {
          "output_type": "display_data",
          "data": {
            "text/plain": [
              "<Figure size 864x576 with 1 Axes>"
            ],
            "image/png": "[encoded data removed]"
          },
          "metadata": {
            "needs_background": "light"
          }
        }
      ]
    },
    {
      "cell_type": "markdown",
      "source": [
        "#Log versions below"
      ],
      "metadata": {
        "id": "fF0EgE-Em3lE"
      }
    },
    {
      "cell_type": "code",
      "source": [
        "# predicted log\n",
        "plot_leps_and_jets(predicted_signal_df, bins=np.linspace(0,600e3,100),log=True)"
      ],
      "metadata": {
        "colab": {
          "base_uri": "https://localhost:8080/",
          "height": 1000
        },
        "id": "Uo1Oyjk1mCtQ",
        "outputId": "14361723-ca03-4456-b043-ec00f01a80d9"
      },
      "execution_count": 61,
      "outputs": [
        {
          "output_type": "stream",
          "name": "stdout",
          "text": [
            "\n",
            "\n",
            "\n",
            "\n"
          ]
        },
        {
          "output_type": "display_data",
          "data": {
            "text/plain": [
              "<Figure size 864x576 with 1 Axes>"
            ],
            "image/png": "[encoded data removed]"
          },
          "metadata": {
            "needs_background": "light"
          }
        },
        {
          "output_type": "display_data",
          "data": {
            "text/plain": [
              "<Figure size 864x576 with 1 Axes>"
            ],
            "image/png": "[encoded data removed]"
          },
          "metadata": {
            "needs_background": "light"
          }
        }
      ]
    },
    {
      "cell_type": "code",
      "source": [
        "# actual log\n",
        "plot_leps_and_jets(actual_signal_df , bins=np.linspace(0,600e3,100), log=True)"
      ],
      "metadata": {
        "colab": {
          "base_uri": "https://localhost:8080/",
          "height": 1000
        },
        "id": "zVpRc-cJmIJ3",
        "outputId": "419aba3c-cfc9-40e0-f4c0-92b069fb857e"
      },
      "execution_count": 63,
      "outputs": [
        {
          "output_type": "stream",
          "name": "stdout",
          "text": [
            "\n",
            "\n",
            "\n",
            "\n"
          ]
        },
        {
          "output_type": "display_data",
          "data": {
            "text/plain": [
              "<Figure size 864x576 with 1 Axes>"
            ],
            "image/png": "[encoded data removed]"
          },
          "metadata": {
            "needs_background": "light"
          }
        },
        {
          "output_type": "display_data",
          "data": {
            "text/plain": [
              "<Figure size 864x576 with 1 Axes>"
            ],
            "image/png": "[encoded data removed]"
          },
          "metadata": {
            "needs_background": "light"
          }
        }
      ]
    },
    {
      "cell_type": "code",
      "source": [
        ""
      ],
      "metadata": {
        "id": "AuEs4K5sj8KX"
      },
      "execution_count": null,
      "outputs": []
    }
  ]
}