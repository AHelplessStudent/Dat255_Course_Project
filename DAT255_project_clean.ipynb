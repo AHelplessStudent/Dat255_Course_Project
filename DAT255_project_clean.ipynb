{
  "nbformat": 4,
  "nbformat_minor": 0,
  "metadata": {
    "colab": {
      "name": "DAT255-project-clean.ipynb",
      "provenance": [],
      "collapsed_sections": [
        "hoRZxHTufCYY",
        "4u3Uk16Hfh11",
        "sy0PHoEVgTgp",
        "6K7SZ09dgXVC",
        "lynM9xgXgcU6",
        "w_ZGP0QQ_4d0"
      ]
    },
    "kernelspec": {
      "name": "python3",
      "display_name": "Python 3"
    },
    "language_info": {
      "name": "python"
    }
  },
  "cells": [
    {
      "cell_type": "markdown",
      "source": [
        "# Imports"
      ],
      "metadata": {
        "id": "hoRZxHTufCYY"
      }
    },
    {
      "cell_type": "code",
      "execution_count": null,
      "metadata": {
        "id": "CZba4STOe-9p"
      },
      "outputs": [],
      "source": [
        "import pandas as pd\n",
        "import numpy as np\n",
        "from sklearn.model_selection import train_test_split\n",
        "import math\n",
        "import gc\n",
        "import seaborn as sns\n",
        "from sklearn.metrics import roc_curve, auc\n",
        "from pandas.core.internals.managers import BaseBlockManager\n",
        "from pandas.api.types import is_string_dtype, is_numeric_dtype, is_categorical_dtype\n",
        "from sklearn.ensemble import RandomForestClassifier\n",
        "from sklearn.metrics import accuracy_score\n",
        "from sklearn.utils import shuffle\n",
        "from sklearn.metrics import confusion_matrix, ConfusionMatrixDisplay"
      ]
    },
    {
      "cell_type": "code",
      "source": [
        "!pip install fastai==2.2.7\n",
        "!pip install -Uqq fastbook\n",
        "!pip install optuna\n",
        "!pip install imbalanced-learn"
      ],
      "metadata": {
        "colab": {
          "base_uri": "https://localhost:8080/"
        },
        "id": "AeMb6DhrfB2R",
        "outputId": "c5f24f6f-687f-4e8a-fef7-305922862108"
      },
      "execution_count": null,
      "outputs": [
        {
          "output_type": "stream",
          "name": "stdout",
          "text": [
            "Collecting fastai==2.2.7\n",
            "  Using cached fastai-2.2.7-py3-none-any.whl (193 kB)\n",
            "Requirement already satisfied: fastprogress>=0.2.4 in /usr/local/lib/python3.7/dist-packages (from fastai==2.2.7) (1.0.2)\n",
            "Requirement already satisfied: scipy in /usr/local/lib/python3.7/dist-packages (from fastai==2.2.7) (1.4.1)\n",
            "Requirement already satisfied: packaging in /usr/local/lib/python3.7/dist-packages (from fastai==2.2.7) (21.3)\n",
            "Requirement already satisfied: pillow>6.0.0 in /usr/local/lib/python3.7/dist-packages (from fastai==2.2.7) (7.1.2)\n",
            "Requirement already satisfied: torch<1.8,>=1.7.0 in /usr/local/lib/python3.7/dist-packages (from fastai==2.2.7) (1.7.1)\n",
            "Requirement already satisfied: requests in /usr/local/lib/python3.7/dist-packages (from fastai==2.2.7) (2.23.0)\n",
            "Requirement already satisfied: pyyaml in /usr/local/lib/python3.7/dist-packages (from fastai==2.2.7) (3.13)\n",
            "Requirement already satisfied: pandas in /usr/local/lib/python3.7/dist-packages (from fastai==2.2.7) (1.3.5)\n",
            "Requirement already satisfied: pip in /usr/local/lib/python3.7/dist-packages (from fastai==2.2.7) (21.1.3)\n",
            "Requirement already satisfied: scikit-learn in /usr/local/lib/python3.7/dist-packages (from fastai==2.2.7) (1.0.2)\n",
            "Requirement already satisfied: spacy<3 in /usr/local/lib/python3.7/dist-packages (from fastai==2.2.7) (2.2.4)\n",
            "Requirement already satisfied: matplotlib in /usr/local/lib/python3.7/dist-packages (from fastai==2.2.7) (3.2.2)\n",
            "Requirement already satisfied: torchvision<0.9,>=0.8 in /usr/local/lib/python3.7/dist-packages (from fastai==2.2.7) (0.8.2)\n",
            "Requirement already satisfied: fastcore<1.4,>=1.3.8 in /usr/local/lib/python3.7/dist-packages (from fastai==2.2.7) (1.3.29)\n",
            "Requirement already satisfied: setuptools in /usr/local/lib/python3.7/dist-packages (from spacy<3->fastai==2.2.7) (57.4.0)\n",
            "Requirement already satisfied: plac<1.2.0,>=0.9.6 in /usr/local/lib/python3.7/dist-packages (from spacy<3->fastai==2.2.7) (1.1.3)\n",
            "Requirement already satisfied: preshed<3.1.0,>=3.0.2 in /usr/local/lib/python3.7/dist-packages (from spacy<3->fastai==2.2.7) (3.0.6)\n",
            "Requirement already satisfied: wasabi<1.1.0,>=0.4.0 in /usr/local/lib/python3.7/dist-packages (from spacy<3->fastai==2.2.7) (0.9.1)\n",
            "Requirement already satisfied: catalogue<1.1.0,>=0.0.7 in /usr/local/lib/python3.7/dist-packages (from spacy<3->fastai==2.2.7) (1.0.0)\n",
            "Requirement already satisfied: tqdm<5.0.0,>=4.38.0 in /usr/local/lib/python3.7/dist-packages (from spacy<3->fastai==2.2.7) (4.64.0)\n",
            "Requirement already satisfied: numpy>=1.15.0 in /usr/local/lib/python3.7/dist-packages (from spacy<3->fastai==2.2.7) (1.21.6)\n",
            "Requirement already satisfied: blis<0.5.0,>=0.4.0 in /usr/local/lib/python3.7/dist-packages (from spacy<3->fastai==2.2.7) (0.4.1)\n",
            "Requirement already satisfied: srsly<1.1.0,>=1.0.2 in /usr/local/lib/python3.7/dist-packages (from spacy<3->fastai==2.2.7) (1.0.5)\n",
            "Requirement already satisfied: murmurhash<1.1.0,>=0.28.0 in /usr/local/lib/python3.7/dist-packages (from spacy<3->fastai==2.2.7) (1.0.6)\n",
            "Requirement already satisfied: thinc==7.4.0 in /usr/local/lib/python3.7/dist-packages (from spacy<3->fastai==2.2.7) (7.4.0)\n",
            "Requirement already satisfied: cymem<2.1.0,>=2.0.2 in /usr/local/lib/python3.7/dist-packages (from spacy<3->fastai==2.2.7) (2.0.6)\n",
            "Requirement already satisfied: importlib-metadata>=0.20 in /usr/local/lib/python3.7/dist-packages (from catalogue<1.1.0,>=0.0.7->spacy<3->fastai==2.2.7) (4.11.3)\n",
            "Requirement already satisfied: zipp>=0.5 in /usr/local/lib/python3.7/dist-packages (from importlib-metadata>=0.20->catalogue<1.1.0,>=0.0.7->spacy<3->fastai==2.2.7) (3.8.0)\n",
            "Requirement already satisfied: typing-extensions>=3.6.4 in /usr/local/lib/python3.7/dist-packages (from importlib-metadata>=0.20->catalogue<1.1.0,>=0.0.7->spacy<3->fastai==2.2.7) (4.2.0)\n",
            "Requirement already satisfied: certifi>=2017.4.17 in /usr/local/lib/python3.7/dist-packages (from requests->fastai==2.2.7) (2021.10.8)\n",
            "Requirement already satisfied: idna<3,>=2.5 in /usr/local/lib/python3.7/dist-packages (from requests->fastai==2.2.7) (2.10)\n",
            "Requirement already satisfied: urllib3!=1.25.0,!=1.25.1,<1.26,>=1.21.1 in /usr/local/lib/python3.7/dist-packages (from requests->fastai==2.2.7) (1.24.3)\n",
            "Requirement already satisfied: chardet<4,>=3.0.2 in /usr/local/lib/python3.7/dist-packages (from requests->fastai==2.2.7) (3.0.4)\n",
            "Requirement already satisfied: cycler>=0.10 in /usr/local/lib/python3.7/dist-packages (from matplotlib->fastai==2.2.7) (0.11.0)\n",
            "Requirement already satisfied: python-dateutil>=2.1 in /usr/local/lib/python3.7/dist-packages (from matplotlib->fastai==2.2.7) (2.8.2)\n",
            "Requirement already satisfied: pyparsing!=2.0.4,!=2.1.2,!=2.1.6,>=2.0.1 in /usr/local/lib/python3.7/dist-packages (from matplotlib->fastai==2.2.7) (3.0.8)\n",
            "Requirement already satisfied: kiwisolver>=1.0.1 in /usr/local/lib/python3.7/dist-packages (from matplotlib->fastai==2.2.7) (1.4.2)\n",
            "Requirement already satisfied: six>=1.5 in /usr/local/lib/python3.7/dist-packages (from python-dateutil>=2.1->matplotlib->fastai==2.2.7) (1.15.0)\n",
            "Requirement already satisfied: pytz>=2017.3 in /usr/local/lib/python3.7/dist-packages (from pandas->fastai==2.2.7) (2022.1)\n",
            "Requirement already satisfied: threadpoolctl>=2.0.0 in /usr/local/lib/python3.7/dist-packages (from scikit-learn->fastai==2.2.7) (3.1.0)\n",
            "Requirement already satisfied: joblib>=0.11 in /usr/local/lib/python3.7/dist-packages (from scikit-learn->fastai==2.2.7) (1.1.0)\n",
            "Installing collected packages: fastai\n",
            "  Attempting uninstall: fastai\n",
            "    Found existing installation: fastai 2.6.0\n",
            "    Uninstalling fastai-2.6.0:\n",
            "      Successfully uninstalled fastai-2.6.0\n",
            "\u001b[31mERROR: pip's dependency resolver does not currently take into account all the packages that are installed. This behaviour is the source of the following dependency conflicts.\n",
            "fastbook 0.0.21 requires fastai>=2.6, but you have fastai 2.2.7 which is incompatible.\u001b[0m\n",
            "Successfully installed fastai-2.2.7\n",
            "Requirement already satisfied: optuna in /usr/local/lib/python3.7/dist-packages (2.10.0)\n",
            "Requirement already satisfied: cliff in /usr/local/lib/python3.7/dist-packages (from optuna) (3.10.1)\n",
            "Requirement already satisfied: alembic in /usr/local/lib/python3.7/dist-packages (from optuna) (1.7.7)\n",
            "Requirement already satisfied: numpy in /usr/local/lib/python3.7/dist-packages (from optuna) (1.21.6)\n",
            "Requirement already satisfied: tqdm in /usr/local/lib/python3.7/dist-packages (from optuna) (4.64.0)\n",
            "Requirement already satisfied: packaging>=20.0 in /usr/local/lib/python3.7/dist-packages (from optuna) (21.3)\n",
            "Requirement already satisfied: PyYAML in /usr/local/lib/python3.7/dist-packages (from optuna) (3.13)\n",
            "Requirement already satisfied: cmaes>=0.8.2 in /usr/local/lib/python3.7/dist-packages (from optuna) (0.8.2)\n",
            "Requirement already satisfied: sqlalchemy>=1.1.0 in /usr/local/lib/python3.7/dist-packages (from optuna) (1.4.35)\n",
            "Requirement already satisfied: scipy!=1.4.0 in /usr/local/lib/python3.7/dist-packages (from optuna) (1.4.1)\n",
            "Requirement already satisfied: colorlog in /usr/local/lib/python3.7/dist-packages (from optuna) (6.6.0)\n",
            "Requirement already satisfied: pyparsing!=3.0.5,>=2.0.2 in /usr/local/lib/python3.7/dist-packages (from packaging>=20.0->optuna) (3.0.8)\n",
            "Requirement already satisfied: greenlet!=0.4.17 in /usr/local/lib/python3.7/dist-packages (from sqlalchemy>=1.1.0->optuna) (1.1.2)\n",
            "Requirement already satisfied: importlib-metadata in /usr/local/lib/python3.7/dist-packages (from sqlalchemy>=1.1.0->optuna) (4.11.3)\n",
            "Requirement already satisfied: Mako in /usr/local/lib/python3.7/dist-packages (from alembic->optuna) (1.2.0)\n",
            "Requirement already satisfied: importlib-resources in /usr/local/lib/python3.7/dist-packages (from alembic->optuna) (5.7.1)\n",
            "Requirement already satisfied: stevedore>=2.0.1 in /usr/local/lib/python3.7/dist-packages (from cliff->optuna) (3.5.0)\n",
            "Requirement already satisfied: autopage>=0.4.0 in /usr/local/lib/python3.7/dist-packages (from cliff->optuna) (0.5.0)\n",
            "Requirement already satisfied: pbr!=2.1.0,>=2.0.0 in /usr/local/lib/python3.7/dist-packages (from cliff->optuna) (5.8.1)\n",
            "Requirement already satisfied: cmd2>=1.0.0 in /usr/local/lib/python3.7/dist-packages (from cliff->optuna) (2.4.1)\n",
            "Requirement already satisfied: PrettyTable>=0.7.2 in /usr/local/lib/python3.7/dist-packages (from cliff->optuna) (3.2.0)\n",
            "Requirement already satisfied: attrs>=16.3.0 in /usr/local/lib/python3.7/dist-packages (from cmd2>=1.0.0->cliff->optuna) (21.4.0)\n",
            "Requirement already satisfied: pyperclip>=1.6 in /usr/local/lib/python3.7/dist-packages (from cmd2>=1.0.0->cliff->optuna) (1.8.2)\n",
            "Requirement already satisfied: wcwidth>=0.1.7 in /usr/local/lib/python3.7/dist-packages (from cmd2>=1.0.0->cliff->optuna) (0.2.5)\n",
            "Requirement already satisfied: typing-extensions in /usr/local/lib/python3.7/dist-packages (from cmd2>=1.0.0->cliff->optuna) (4.2.0)\n",
            "Requirement already satisfied: zipp>=0.5 in /usr/local/lib/python3.7/dist-packages (from importlib-metadata->sqlalchemy>=1.1.0->optuna) (3.8.0)\n",
            "Requirement already satisfied: MarkupSafe>=0.9.2 in /usr/local/lib/python3.7/dist-packages (from Mako->alembic->optuna) (2.0.1)\n",
            "Requirement already satisfied: imbalanced-learn in /usr/local/lib/python3.7/dist-packages (0.8.1)\n",
            "Requirement already satisfied: scipy>=0.19.1 in /usr/local/lib/python3.7/dist-packages (from imbalanced-learn) (1.4.1)\n",
            "Requirement already satisfied: joblib>=0.11 in /usr/local/lib/python3.7/dist-packages (from imbalanced-learn) (1.1.0)\n",
            "Requirement already satisfied: scikit-learn>=0.24 in /usr/local/lib/python3.7/dist-packages (from imbalanced-learn) (1.0.2)\n",
            "Requirement already satisfied: numpy>=1.13.3 in /usr/local/lib/python3.7/dist-packages (from imbalanced-learn) (1.21.6)\n",
            "Requirement already satisfied: threadpoolctl>=2.0.0 in /usr/local/lib/python3.7/dist-packages (from scikit-learn>=0.24->imbalanced-learn) (3.1.0)\n"
          ]
        }
      ]
    },
    {
      "cell_type": "code",
      "source": [
        "from fastai import *\n",
        "from fastai.vision import *\n",
        "from fastai.tabular.all import *\n",
        "import fastbook\n",
        "import optuna\n",
        "import imblearn\n",
        "from imblearn.over_sampling import RandomOverSampler\n",
        "from imblearn.under_sampling import RandomUnderSampler"
      ],
      "metadata": {
        "id": "bnZ5GgNUfIyN"
      },
      "execution_count": null,
      "outputs": []
    },
    {
      "cell_type": "markdown",
      "source": [
        "# Data preperation\n",
        "\n",
        "In this section we use some code and methods created by Dovydas Sprindys, available at: https://github.com/dsp0011/DAT255-project"
      ],
      "metadata": {
        "id": "4u3Uk16Hfh11"
      }
    },
    {
      "cell_type": "code",
      "source": [
        "from google.colab import drive\n",
        "drive.mount('/content/drive', force_remount=True)"
      ],
      "metadata": {
        "colab": {
          "base_uri": "https://localhost:8080/"
        },
        "id": "L0LYhYmShjAb",
        "outputId": "7c877cc1-e970-46a2-abcd-0c0e9d3da2cb"
      },
      "execution_count": null,
      "outputs": [
        {
          "output_type": "stream",
          "name": "stdout",
          "text": [
            "Mounted at /content/drive\n"
          ]
        }
      ]
    },
    {
      "cell_type": "markdown",
      "source": [
        "## Load data"
      ],
      "metadata": {
        "id": "KGO4PYG-fj2y"
      }
    },
    {
      "cell_type": "code",
      "source": [
        "reduced_path = 'drive/MyDrive/Dat255 reduced files/'\n",
        "\n",
        "diboson     = pd.read_pickle(reduced_path +'diboson.pkl')\n",
        "DYee     = pd.read_pickle(reduced_path +'DYee.pkl')\n",
        "DYmumu     = pd.read_pickle( reduced_path  + 'DYmumu.pkl')\n",
        "DYtautau    = pd.read_pickle( reduced_path  + 'DYtautau.pkl')\n",
        "ttbar_lep     = pd.read_pickle( reduced_path  + 'ttbar_lep.pkl')\n",
        "Wenu     = pd.read_pickle( reduced_path  + 'Wenu.pkl')\n",
        "Wmunu     = pd.read_pickle( reduced_path  + 'Wmunu.pkl')\n",
        "Wtaunu     = pd.read_pickle( reduced_path  + 'Wtaunu.pkl')\n",
        "Zee     = pd.read_pickle( reduced_path  + 'Zee.pkl')\n",
        "ttbar_had     = pd.read_pickle( reduced_path  + 'ttbar_had.pkl')\n",
        "Ztautau     = pd.read_pickle( reduced_path  + 'Ztautau.pkl')\n",
        "signal     = pd.read_pickle(reduced_path  + 'signal.pkl')\n"
      ],
      "metadata": {
        "id": "vHtXwUHEfmS5"
      },
      "execution_count": null,
      "outputs": []
    },
    {
      "cell_type": "code",
      "source": [
        "diboson     = diboson.loc[:,~diboson.columns.duplicated()]\n",
        "DYee        = DYee.loc[:,~DYee.columns.duplicated()]\n",
        "DYmumu      = DYmumu.loc[:,~DYmumu.columns.duplicated()]\n",
        "DYtautau    = DYtautau.loc[:,~DYtautau.columns.duplicated()]\n",
        "ttbar_lep   = ttbar_lep.loc[:,~ttbar_lep.columns.duplicated()]\n",
        "Wenu        = Wenu.loc[:,~Wenu.columns.duplicated()]\n",
        "Wmunu       = Wmunu.loc[:,~Wmunu.columns.duplicated()]\n",
        "Wtaunu      = Wtaunu.loc[:,~Wtaunu.columns.duplicated()]\n",
        "Zee         = Zee.loc[:,~Zee.columns.duplicated()]\n",
        "ttbar_had   = ttbar_had.loc[:,~ttbar_had.columns.duplicated()]\n",
        "Ztautau     = Ztautau.loc[:,~Ztautau.columns.duplicated()]\n",
        "signal      = signal.loc[:,~signal.columns.duplicated()]"
      ],
      "metadata": {
        "id": "FulyGPewflgq"
      },
      "execution_count": null,
      "outputs": []
    },
    {
      "cell_type": "code",
      "source": [
        "diboson = shuffle(diboson, random_state = 42)\n",
        "DYee = shuffle(DYee, random_state = 42)\n",
        "DYmumu = shuffle(DYmumu, random_state = 42)\n",
        "DYtautau = shuffle(DYtautau, random_state = 42)\n",
        "ttbar_lep = shuffle(ttbar_lep, random_state = 42)\n",
        "Wenu = shuffle(Wenu, random_state = 42)\n",
        "Wmunu = shuffle(Wmunu, random_state = 42)\n",
        "Wtaunu = shuffle(Wtaunu, random_state = 42)\n",
        "Zee = shuffle(Zee, random_state = 42)\n",
        "ttbar_had = shuffle(ttbar_had, random_state = 42)\n",
        "Ztautau = shuffle(Ztautau, random_state = 42)\n",
        "signal = shuffle(signal, random_state = 42)"
      ],
      "metadata": {
        "id": "KPICgc9FfvlX"
      },
      "execution_count": null,
      "outputs": []
    },
    {
      "cell_type": "code",
      "source": [
        "background = [diboson, DYee, DYmumu, DYtautau, ttbar_lep, Wenu, Wmunu, Wtaunu, Zee, ttbar_had, Ztautau]\n",
        "backgroundLabel = ['diboson', 'DYee', 'DYmumu', 'DYtautau', 'ttbar_lep', 'Wenu', 'Wmunu', 'Wtaunu', 'Zee', 'ttbar_had', 'Ztautau']"
      ],
      "metadata": {
        "id": "K5Lt2HuMfxat"
      },
      "execution_count": null,
      "outputs": []
    },
    {
      "cell_type": "code",
      "source": [
        "del Zee\n",
        "del ttbar_lep\n",
        "del DYmumu\n",
        "del DYee\n",
        "del diboson\n",
        "del Wenu\n",
        "del Ztautau\n",
        "gc.collect()"
      ],
      "metadata": {
        "colab": {
          "base_uri": "https://localhost:8080/"
        },
        "id": "PazptOyIf3NQ",
        "outputId": "2728299a-655a-4d44-9fd0-19de8778101d"
      },
      "execution_count": null,
      "outputs": [
        {
          "output_type": "execute_result",
          "data": {
            "text/plain": [
              "152"
            ]
          },
          "metadata": {},
          "execution_count": 9
        }
      ]
    },
    {
      "cell_type": "code",
      "source": [
        "features_from_feature_importance = [\n",
        "                                    \"met_et\",\n",
        "                                    \"lep_1_E\",\n",
        "                                    \"lep_2_E\",\n",
        "                                    \"lep_3_E\",\n",
        "                                    \"lep_1_eta\",\n",
        "                                    \"lep_2_eta\",\n",
        "                                    \"jet_n\",\n",
        "                                    \"lep_1_pt\",\n",
        "                                    \"lep_2_pt\",\n",
        "                                    \"lep_3_pt\",\n",
        "                                    \"lep_4_pt\",\n",
        "                                    \"lep_5_pt\",\n",
        "                                    \"lep_1_phi\",\n",
        "                                    \"lep_2_phi\",\n",
        "                                    \"jet_2_trueflav\",\n",
        "                                    \"jet_1_E\",\n",
        "                                    \"jet_3_E\",\n",
        "                                    \"jet_1_pt\",\n",
        "                                    \"jet_2_pt\",\n",
        "                                    \"jet_3_pt\",\n",
        "                                    \"jet_4_pt\",\n",
        "                                    \"jet_5_pt\",\n",
        "                                    \"jet_6_pt\",\n",
        "                                    \"jet_7_pt\",\n",
        "                                    \"jet_8_pt\",\n",
        "                                    \"jet_9_pt\",\n",
        "                                    \"alljet_n\",\n",
        "                                    \"lep_1_etcone20\",\n",
        "                                    \"jet_2_MV1\",\n",
        "                                    \"jet_1_MV1\",\n",
        "                                    \"jet_1_phi\",\n",
        "                                    \"jet_1_m\",\n",
        "                                    \"jet_2_E\",\n",
        "                                    \"jet_2_jvf\",\n",
        "                                    \"jet_1_SV0\",\n",
        "                                    ]\n"
      ],
      "metadata": {
        "id": "k7UTfVAlf588"
      },
      "execution_count": null,
      "outputs": []
    },
    {
      "cell_type": "code",
      "source": [
        "invariant_features = [ 'lep_1_pt',\n",
        "                       'lep_1_eta',\n",
        "                       'lep_1_phi',\n",
        "                       'lep_1_type',\n",
        "                       'lep_1_charge',\n",
        "                       'lep_1_E',\n",
        "                       'lep_2_pt',\n",
        "                       'lep_2_eta',\n",
        "                       'lep_2_phi',\n",
        "                       'lep_2_type',\n",
        "                       'lep_2_charge',\n",
        "                       'lep_2_E',\n",
        "                       'jet_1_pt',\n",
        "                       'jet_1_eta',\n",
        "                       'jet_1_phi',\n",
        "                       'jet_2_pt',\n",
        "                       'jet_2_eta',\n",
        "                       'jet_2_phi',\n",
        "          \n",
        "] "
      ],
      "metadata": {
        "id": "vQqrQSENgAj7"
      },
      "execution_count": null,
      "outputs": []
    },
    {
      "cell_type": "code",
      "source": [
        "features_and_weights = list(set(features_from_feature_importance + invariant_features))\n",
        "features = features_and_weights"
      ],
      "metadata": {
        "id": "m3IhDt1bgDsl"
      },
      "execution_count": null,
      "outputs": []
    },
    {
      "cell_type": "code",
      "source": [
        "for i in range(0,11):\n",
        "  background[i]['data_type'] = 0\n",
        "\n",
        "signal['data_type'] = 1\n",
        "\n",
        "features.append('data_type')"
      ],
      "metadata": {
        "id": "x1AQEGKkgAin"
      },
      "execution_count": null,
      "outputs": []
    },
    {
      "cell_type": "code",
      "source": [
        "def train_valid_test_split(df, test_pct, valid_pct):\n",
        "  number_of_train_valid_rows = math.floor(df.shape[0] * (1 - test_pct))\n",
        "  df_train_valid ,df_test = df.iloc[:number_of_train_valid_rows].copy(),df.iloc[number_of_train_valid_rows:].copy() \n",
        "\n",
        "  number_of_train_rows = math.floor(df_train_valid.shape[0] * (1 - valid_pct))\n",
        "  df_train, df_valid = df_train_valid.iloc[:number_of_train_rows].copy(),df_train_valid.iloc[number_of_train_rows:].copy() \n",
        "\n",
        "  return df_train, df_valid, df_test"
      ],
      "metadata": {
        "id": "8jyEmJuPgC8d"
      },
      "execution_count": null,
      "outputs": []
    },
    {
      "cell_type": "code",
      "source": [
        "background_train = [None]*len(background)\n",
        "background_valid = [None]*len(background)\n",
        "background_test = [None]*len(background)\n",
        "background_train_valid = [None]*len(background)\n",
        "\n",
        "\n",
        "for i in range(len(background)):\n",
        "  background[i].reset_index()\n",
        "  background_train[i], background_valid[i], background_test[i] = train_valid_test_split(background[i], 0.6, 0.3)\n",
        "  background_train_valid[i] = pd.concat([background_train[i][features], background_valid[i][features]])\n",
        "\n",
        "\n",
        "signal.reset_index()\n",
        "signal_train, signal_valid, signal_test = train_valid_test_split(signal, 0.6, 0.3)\n",
        "signal_train_valid = pd.concat([signal_train[features], signal_valid[features]])"
      ],
      "metadata": {
        "id": "LiOwHRVigGlx"
      },
      "execution_count": null,
      "outputs": []
    },
    {
      "cell_type": "code",
      "source": [
        "df_train_valid = pd.concat(\n",
        "    [background_train_valid[0][features],\n",
        "    background_train_valid[1][features],\n",
        "    background_train_valid[2][features],\n",
        "    background_train_valid[3][features],\n",
        "    background_train_valid[4][features],\n",
        "    background_train_valid[5][features],\n",
        "    background_train_valid[6][features],\n",
        "    background_train_valid[7][features],\n",
        "    background_train_valid[8][features],\n",
        "    background_train_valid[9][features],\n",
        "    background_train_valid[10][features],\n",
        "    signal_train_valid[features]]\n",
        ")\n",
        "\n",
        "df_test =  pd.concat(\n",
        "    [background_test[0][features],\n",
        "    background_test[1][features],\n",
        "    background_test[2][features],\n",
        "    background_test[3][features],\n",
        "    background_test[4][features],\n",
        "    background_test[5][features],\n",
        "    background_test[6][features],\n",
        "    background_test[7][features],\n",
        "    background_test[8][features],\n",
        "    background_test[9][features],\n",
        "    background_test[10][features],\n",
        "    signal_test[features]]\n",
        ")\n",
        "features.remove('data_type')\n",
        "\n",
        "df_train_valid.head()"
      ],
      "metadata": {
        "colab": {
          "base_uri": "https://localhost:8080/",
          "height": 270
        },
        "id": "lgaPvC8fgI6x",
        "outputId": "2a77c553-b9be-4af1-c567-d7175783e432"
      },
      "execution_count": null,
      "outputs": [
        {
          "output_type": "execute_result",
          "data": {
            "text/plain": [
              "            jet_2_pt      jet_1_pt      jet_1_m  jet_2_trueflav      lep_1_pt  \\\n",
              "240286  30879.878906  33441.281250  7919.706543               0  70003.000000   \n",
              "207218  27618.810547  30077.277344  7208.302734               0  30512.605469   \n",
              "472462  27344.414062  87791.968750  8251.632812               0  53562.710938   \n",
              "406303  26448.152344  37831.085938  4548.416992               0  34513.105469   \n",
              "410098  30810.994141  78189.750000  7905.195801               0  31711.708984   \n",
              "\n",
              "              lep_1_E  lep_2_eta      lep_3_pt      jet_7_pt      jet_8_pt  \\\n",
              "240286  348217.000000  -2.130840   8629.559570  25541.931641  33199.382812   \n",
              "207218   44602.898438  -1.183226   8960.332031  28368.611328  28183.841797   \n",
              "472462  173877.437500  -0.188837  13088.007812  34387.996094  37325.753906   \n",
              "406303  134574.562500  -1.420998   5538.585449  25112.246094  40322.410156   \n",
              "410098   31890.738281   0.984481   5230.188965  25112.246094  40322.410156   \n",
              "\n",
              "        lep_1_type        lep_2_E     lep_5_pt      jet_9_pt  jet_2_MV1  \\\n",
              "240286  1093664768  115714.359375     0.000000  28467.660156   0.079650   \n",
              "207218  1095761920   41888.015625  5811.579102  29435.957031   0.052430   \n",
              "472462  1093664768   39415.007812  5811.579102  25570.933594   0.065073   \n",
              "406303  1093664768   58394.460938     0.000000  27481.082031   0.060030   \n",
              "410098  1093664768   43773.351562     0.000000  27481.082031   0.079338   \n",
              "\n",
              "        lep_1_charge      lep_2_pt  lep_1_etcone20         met_et  lep_2_type  \\\n",
              "240286           1.0  27097.236328     5068.668945   55996.164062  1093664768   \n",
              "207218           1.0  23458.849609     3834.954102  118807.289062  1095761920   \n",
              "472462           1.0  38722.542969     2677.109619   19069.587891  1093664768   \n",
              "406303          -1.0  26647.511719     1014.726074   45231.429688  1095761920   \n",
              "410098          -1.0  28703.320312      684.060364   92281.617188  1093664768   \n",
              "\n",
              "           lep_4_pt  lep_2_phi  jet_1_MV1  jet_1_eta  jet_2_phi  \\\n",
              "240286  6525.303711  -2.306713   0.052393  -1.941789   1.090446   \n",
              "207218  7584.737305  -0.623021   0.072071  -0.727234  -3.112565   \n",
              "472462  8006.556641  -0.406874   0.059250  -0.493717  -1.825780   \n",
              "406303  6525.303711  -2.561293   0.052394  -2.246183   0.098625   \n",
              "410098  6525.303711  -0.260665   0.788124   1.624896   0.337034   \n",
              "\n",
              "              jet_3_E        jet_2_E      jet_4_pt  jet_1_SV0        jet_1_E  \\\n",
              "240286   47961.550781   32141.175781  26121.238281        0.0  119224.953125   \n",
              "207218   63501.785156  116181.929688  30163.722656        0.0   39058.433594   \n",
              "472462   68773.531250   28023.609375  27249.386719        0.0   99055.304688   \n",
              "406303  161694.375000   72514.648438  45281.300781        0.0  180840.546875   \n",
              "410098   37674.605469  132630.218750  27023.474609        0.0  206369.953125   \n",
              "\n",
              "        lep_1_phi      jet_6_pt  jet_2_jvf      jet_3_pt  lep_2_charge  jet_n  \\\n",
              "240286  -1.213312  45196.339844   0.125757  26031.917969          -1.0      0   \n",
              "207218   2.829271  32688.576172   0.000000  49128.859375          -1.0      0   \n",
              "472462  -0.768676  25123.806641   0.627259  27721.800781          -1.0      2   \n",
              "406303   1.439510  27113.009766   0.330295  48873.527344           1.0      0   \n",
              "410098  -2.579971  30533.644531   0.921855  32662.816406           1.0      2   \n",
              "\n",
              "             lep_3_E  alljet_n      jet_5_pt  jet_1_phi  lep_1_eta  jet_2_eta  \\\n",
              "240286   8684.016602         2  34480.773438  -0.804263  -2.287175   0.142964   \n",
              "207218  36264.140625         2  25285.927734   2.041985   0.927426  -2.113898   \n",
              "472462  14987.274414         2  25856.562500   2.601746  -1.846030  -0.154416   \n",
              "406303   5772.819336         2  32164.453125   2.781263  -2.037062  -1.663638   \n",
              "410098   9529.125977         2  27381.302734  -1.097664   0.106209   2.138418   \n",
              "\n",
              "        data_type  \n",
              "240286          0  \n",
              "207218          0  \n",
              "472462          0  \n",
              "406303          0  \n",
              "410098          0  "
            ],
            "text/html": [
              "\n",
              "  <div id=\"df-96266b18-db67-4172-98b6-b05bbdf28f54\">\n",
              "    <div class=\"colab-df-container\">\n",
              "      <div>\n",
              "<style scoped>\n",
              "    .dataframe tbody tr th:only-of-type {\n",
              "        vertical-align: middle;\n",
              "    }\n",
              "\n",
              "    .dataframe tbody tr th {\n",
              "        vertical-align: top;\n",
              "    }\n",
              "\n",
              "    .dataframe thead th {\n",
              "        text-align: right;\n",
              "    }\n",
              "</style>\n",
              "<table border=\"1\" class=\"dataframe\">\n",
              "  <thead>\n",
              "    <tr style=\"text-align: right;\">\n",
              "      <th></th>\n",
              "      <th>jet_2_pt</th>\n",
              "      <th>jet_1_pt</th>\n",
              "      <th>jet_1_m</th>\n",
              "      <th>jet_2_trueflav</th>\n",
              "      <th>lep_1_pt</th>\n",
              "      <th>lep_1_E</th>\n",
              "      <th>lep_2_eta</th>\n",
              "      <th>lep_3_pt</th>\n",
              "      <th>jet_7_pt</th>\n",
              "      <th>jet_8_pt</th>\n",
              "      <th>lep_1_type</th>\n",
              "      <th>lep_2_E</th>\n",
              "      <th>lep_5_pt</th>\n",
              "      <th>jet_9_pt</th>\n",
              "      <th>jet_2_MV1</th>\n",
              "      <th>lep_1_charge</th>\n",
              "      <th>lep_2_pt</th>\n",
              "      <th>lep_1_etcone20</th>\n",
              "      <th>met_et</th>\n",
              "      <th>lep_2_type</th>\n",
              "      <th>lep_4_pt</th>\n",
              "      <th>lep_2_phi</th>\n",
              "      <th>jet_1_MV1</th>\n",
              "      <th>jet_1_eta</th>\n",
              "      <th>jet_2_phi</th>\n",
              "      <th>jet_3_E</th>\n",
              "      <th>jet_2_E</th>\n",
              "      <th>jet_4_pt</th>\n",
              "      <th>jet_1_SV0</th>\n",
              "      <th>jet_1_E</th>\n",
              "      <th>lep_1_phi</th>\n",
              "      <th>jet_6_pt</th>\n",
              "      <th>jet_2_jvf</th>\n",
              "      <th>jet_3_pt</th>\n",
              "      <th>lep_2_charge</th>\n",
              "      <th>jet_n</th>\n",
              "      <th>lep_3_E</th>\n",
              "      <th>alljet_n</th>\n",
              "      <th>jet_5_pt</th>\n",
              "      <th>jet_1_phi</th>\n",
              "      <th>lep_1_eta</th>\n",
              "      <th>jet_2_eta</th>\n",
              "      <th>data_type</th>\n",
              "    </tr>\n",
              "  </thead>\n",
              "  <tbody>\n",
              "    <tr>\n",
              "      <th>240286</th>\n",
              "      <td>30879.878906</td>\n",
              "      <td>33441.281250</td>\n",
              "      <td>7919.706543</td>\n",
              "      <td>0</td>\n",
              "      <td>70003.000000</td>\n",
              "      <td>348217.000000</td>\n",
              "      <td>-2.130840</td>\n",
              "      <td>8629.559570</td>\n",
              "      <td>25541.931641</td>\n",
              "      <td>33199.382812</td>\n",
              "      <td>1093664768</td>\n",
              "      <td>115714.359375</td>\n",
              "      <td>0.000000</td>\n",
              "      <td>28467.660156</td>\n",
              "      <td>0.079650</td>\n",
              "      <td>1.0</td>\n",
              "      <td>27097.236328</td>\n",
              "      <td>5068.668945</td>\n",
              "      <td>55996.164062</td>\n",
              "      <td>1093664768</td>\n",
              "      <td>6525.303711</td>\n",
              "      <td>-2.306713</td>\n",
              "      <td>0.052393</td>\n",
              "      <td>-1.941789</td>\n",
              "      <td>1.090446</td>\n",
              "      <td>47961.550781</td>\n",
              "      <td>32141.175781</td>\n",
              "      <td>26121.238281</td>\n",
              "      <td>0.0</td>\n",
              "      <td>119224.953125</td>\n",
              "      <td>-1.213312</td>\n",
              "      <td>45196.339844</td>\n",
              "      <td>0.125757</td>\n",
              "      <td>26031.917969</td>\n",
              "      <td>-1.0</td>\n",
              "      <td>0</td>\n",
              "      <td>8684.016602</td>\n",
              "      <td>2</td>\n",
              "      <td>34480.773438</td>\n",
              "      <td>-0.804263</td>\n",
              "      <td>-2.287175</td>\n",
              "      <td>0.142964</td>\n",
              "      <td>0</td>\n",
              "    </tr>\n",
              "    <tr>\n",
              "      <th>207218</th>\n",
              "      <td>27618.810547</td>\n",
              "      <td>30077.277344</td>\n",
              "      <td>7208.302734</td>\n",
              "      <td>0</td>\n",
              "      <td>30512.605469</td>\n",
              "      <td>44602.898438</td>\n",
              "      <td>-1.183226</td>\n",
              "      <td>8960.332031</td>\n",
              "      <td>28368.611328</td>\n",
              "      <td>28183.841797</td>\n",
              "      <td>1095761920</td>\n",
              "      <td>41888.015625</td>\n",
              "      <td>5811.579102</td>\n",
              "      <td>29435.957031</td>\n",
              "      <td>0.052430</td>\n",
              "      <td>1.0</td>\n",
              "      <td>23458.849609</td>\n",
              "      <td>3834.954102</td>\n",
              "      <td>118807.289062</td>\n",
              "      <td>1095761920</td>\n",
              "      <td>7584.737305</td>\n",
              "      <td>-0.623021</td>\n",
              "      <td>0.072071</td>\n",
              "      <td>-0.727234</td>\n",
              "      <td>-3.112565</td>\n",
              "      <td>63501.785156</td>\n",
              "      <td>116181.929688</td>\n",
              "      <td>30163.722656</td>\n",
              "      <td>0.0</td>\n",
              "      <td>39058.433594</td>\n",
              "      <td>2.829271</td>\n",
              "      <td>32688.576172</td>\n",
              "      <td>0.000000</td>\n",
              "      <td>49128.859375</td>\n",
              "      <td>-1.0</td>\n",
              "      <td>0</td>\n",
              "      <td>36264.140625</td>\n",
              "      <td>2</td>\n",
              "      <td>25285.927734</td>\n",
              "      <td>2.041985</td>\n",
              "      <td>0.927426</td>\n",
              "      <td>-2.113898</td>\n",
              "      <td>0</td>\n",
              "    </tr>\n",
              "    <tr>\n",
              "      <th>472462</th>\n",
              "      <td>27344.414062</td>\n",
              "      <td>87791.968750</td>\n",
              "      <td>8251.632812</td>\n",
              "      <td>0</td>\n",
              "      <td>53562.710938</td>\n",
              "      <td>173877.437500</td>\n",
              "      <td>-0.188837</td>\n",
              "      <td>13088.007812</td>\n",
              "      <td>34387.996094</td>\n",
              "      <td>37325.753906</td>\n",
              "      <td>1093664768</td>\n",
              "      <td>39415.007812</td>\n",
              "      <td>5811.579102</td>\n",
              "      <td>25570.933594</td>\n",
              "      <td>0.065073</td>\n",
              "      <td>1.0</td>\n",
              "      <td>38722.542969</td>\n",
              "      <td>2677.109619</td>\n",
              "      <td>19069.587891</td>\n",
              "      <td>1093664768</td>\n",
              "      <td>8006.556641</td>\n",
              "      <td>-0.406874</td>\n",
              "      <td>0.059250</td>\n",
              "      <td>-0.493717</td>\n",
              "      <td>-1.825780</td>\n",
              "      <td>68773.531250</td>\n",
              "      <td>28023.609375</td>\n",
              "      <td>27249.386719</td>\n",
              "      <td>0.0</td>\n",
              "      <td>99055.304688</td>\n",
              "      <td>-0.768676</td>\n",
              "      <td>25123.806641</td>\n",
              "      <td>0.627259</td>\n",
              "      <td>27721.800781</td>\n",
              "      <td>-1.0</td>\n",
              "      <td>2</td>\n",
              "      <td>14987.274414</td>\n",
              "      <td>2</td>\n",
              "      <td>25856.562500</td>\n",
              "      <td>2.601746</td>\n",
              "      <td>-1.846030</td>\n",
              "      <td>-0.154416</td>\n",
              "      <td>0</td>\n",
              "    </tr>\n",
              "    <tr>\n",
              "      <th>406303</th>\n",
              "      <td>26448.152344</td>\n",
              "      <td>37831.085938</td>\n",
              "      <td>4548.416992</td>\n",
              "      <td>0</td>\n",
              "      <td>34513.105469</td>\n",
              "      <td>134574.562500</td>\n",
              "      <td>-1.420998</td>\n",
              "      <td>5538.585449</td>\n",
              "      <td>25112.246094</td>\n",
              "      <td>40322.410156</td>\n",
              "      <td>1093664768</td>\n",
              "      <td>58394.460938</td>\n",
              "      <td>0.000000</td>\n",
              "      <td>27481.082031</td>\n",
              "      <td>0.060030</td>\n",
              "      <td>-1.0</td>\n",
              "      <td>26647.511719</td>\n",
              "      <td>1014.726074</td>\n",
              "      <td>45231.429688</td>\n",
              "      <td>1095761920</td>\n",
              "      <td>6525.303711</td>\n",
              "      <td>-2.561293</td>\n",
              "      <td>0.052394</td>\n",
              "      <td>-2.246183</td>\n",
              "      <td>0.098625</td>\n",
              "      <td>161694.375000</td>\n",
              "      <td>72514.648438</td>\n",
              "      <td>45281.300781</td>\n",
              "      <td>0.0</td>\n",
              "      <td>180840.546875</td>\n",
              "      <td>1.439510</td>\n",
              "      <td>27113.009766</td>\n",
              "      <td>0.330295</td>\n",
              "      <td>48873.527344</td>\n",
              "      <td>1.0</td>\n",
              "      <td>0</td>\n",
              "      <td>5772.819336</td>\n",
              "      <td>2</td>\n",
              "      <td>32164.453125</td>\n",
              "      <td>2.781263</td>\n",
              "      <td>-2.037062</td>\n",
              "      <td>-1.663638</td>\n",
              "      <td>0</td>\n",
              "    </tr>\n",
              "    <tr>\n",
              "      <th>410098</th>\n",
              "      <td>30810.994141</td>\n",
              "      <td>78189.750000</td>\n",
              "      <td>7905.195801</td>\n",
              "      <td>0</td>\n",
              "      <td>31711.708984</td>\n",
              "      <td>31890.738281</td>\n",
              "      <td>0.984481</td>\n",
              "      <td>5230.188965</td>\n",
              "      <td>25112.246094</td>\n",
              "      <td>40322.410156</td>\n",
              "      <td>1093664768</td>\n",
              "      <td>43773.351562</td>\n",
              "      <td>0.000000</td>\n",
              "      <td>27481.082031</td>\n",
              "      <td>0.079338</td>\n",
              "      <td>-1.0</td>\n",
              "      <td>28703.320312</td>\n",
              "      <td>684.060364</td>\n",
              "      <td>92281.617188</td>\n",
              "      <td>1093664768</td>\n",
              "      <td>6525.303711</td>\n",
              "      <td>-0.260665</td>\n",
              "      <td>0.788124</td>\n",
              "      <td>1.624896</td>\n",
              "      <td>0.337034</td>\n",
              "      <td>37674.605469</td>\n",
              "      <td>132630.218750</td>\n",
              "      <td>27023.474609</td>\n",
              "      <td>0.0</td>\n",
              "      <td>206369.953125</td>\n",
              "      <td>-2.579971</td>\n",
              "      <td>30533.644531</td>\n",
              "      <td>0.921855</td>\n",
              "      <td>32662.816406</td>\n",
              "      <td>1.0</td>\n",
              "      <td>2</td>\n",
              "      <td>9529.125977</td>\n",
              "      <td>2</td>\n",
              "      <td>27381.302734</td>\n",
              "      <td>-1.097664</td>\n",
              "      <td>0.106209</td>\n",
              "      <td>2.138418</td>\n",
              "      <td>0</td>\n",
              "    </tr>\n",
              "  </tbody>\n",
              "</table>\n",
              "</div>\n",
              "      <button class=\"colab-df-convert\" onclick=\"convertToInteractive('df-96266b18-db67-4172-98b6-b05bbdf28f54')\"\n",
              "              title=\"Convert this dataframe to an interactive table.\"\n",
              "              style=\"display:none;\">\n",
              "        \n",
              "  <svg xmlns=\"http://www.w3.org/2000/svg\" height=\"24px\"viewBox=\"0 0 24 24\"\n",
              "       width=\"24px\">\n",
              "    <path d=\"M0 0h24v24H0V0z\" fill=\"none\"/>\n",
              "    <path d=\"M18.56 5.44l.94 2.06.94-2.06 2.06-.94-2.06-.94-.94-2.06-.94 2.06-2.06.94zm-11 1L8.5 8.5l.94-2.06 2.06-.94-2.06-.94L8.5 2.5l-.94 2.06-2.06.94zm10 10l.94 2.06.94-2.06 2.06-.94-2.06-.94-.94-2.06-.94 2.06-2.06.94z\"/><path d=\"M17.41 7.96l-1.37-1.37c-.4-.4-.92-.59-1.43-.59-.52 0-1.04.2-1.43.59L10.3 9.45l-7.72 7.72c-.78.78-.78 2.05 0 2.83L4 21.41c.39.39.9.59 1.41.59.51 0 1.02-.2 1.41-.59l7.78-7.78 2.81-2.81c.8-.78.8-2.07 0-2.86zM5.41 20L4 18.59l7.72-7.72 1.47 1.35L5.41 20z\"/>\n",
              "  </svg>\n",
              "      </button>\n",
              "      \n",
              "  <style>\n",
              "    .colab-df-container {\n",
              "      display:flex;\n",
              "      flex-wrap:wrap;\n",
              "      gap: 12px;\n",
              "    }\n",
              "\n",
              "    .colab-df-convert {\n",
              "      background-color: #E8F0FE;\n",
              "      border: none;\n",
              "      border-radius: 50%;\n",
              "      cursor: pointer;\n",
              "      display: none;\n",
              "      fill: #1967D2;\n",
              "      height: 32px;\n",
              "      padding: 0 0 0 0;\n",
              "      width: 32px;\n",
              "    }\n",
              "\n",
              "    .colab-df-convert:hover {\n",
              "      background-color: #E2EBFA;\n",
              "      box-shadow: 0px 1px 2px rgba(60, 64, 67, 0.3), 0px 1px 3px 1px rgba(60, 64, 67, 0.15);\n",
              "      fill: #174EA6;\n",
              "    }\n",
              "\n",
              "    [theme=dark] .colab-df-convert {\n",
              "      background-color: #3B4455;\n",
              "      fill: #D2E3FC;\n",
              "    }\n",
              "\n",
              "    [theme=dark] .colab-df-convert:hover {\n",
              "      background-color: #434B5C;\n",
              "      box-shadow: 0px 1px 3px 1px rgba(0, 0, 0, 0.15);\n",
              "      filter: drop-shadow(0px 1px 2px rgba(0, 0, 0, 0.3));\n",
              "      fill: #FFFFFF;\n",
              "    }\n",
              "  </style>\n",
              "\n",
              "      <script>\n",
              "        const buttonEl =\n",
              "          document.querySelector('#df-96266b18-db67-4172-98b6-b05bbdf28f54 button.colab-df-convert');\n",
              "        buttonEl.style.display =\n",
              "          google.colab.kernel.accessAllowed ? 'block' : 'none';\n",
              "\n",
              "        async function convertToInteractive(key) {\n",
              "          const element = document.querySelector('#df-96266b18-db67-4172-98b6-b05bbdf28f54');\n",
              "          const dataTable =\n",
              "            await google.colab.kernel.invokeFunction('convertToInteractive',\n",
              "                                                     [key], {});\n",
              "          if (!dataTable) return;\n",
              "\n",
              "          const docLinkHtml = 'Like what you see? Visit the ' +\n",
              "            '<a target=\"_blank\" href=https://colab.research.google.com/notebooks/data_table.ipynb>data table notebook</a>'\n",
              "            + ' to learn more about interactive tables.';\n",
              "          element.innerHTML = '';\n",
              "          dataTable['output_type'] = 'display_data';\n",
              "          await google.colab.output.renderOutput(dataTable, element);\n",
              "          const docLink = document.createElement('div');\n",
              "          docLink.innerHTML = docLinkHtml;\n",
              "          element.appendChild(docLink);\n",
              "        }\n",
              "      </script>\n",
              "    </div>\n",
              "  </div>\n",
              "  "
            ]
          },
          "metadata": {},
          "execution_count": 16
        }
      ]
    },
    {
      "cell_type": "code",
      "source": [
        "print(\"Percentage of signal in training set: \", df_train_valid['data_type'].value_counts()[1]/(df_train_valid['data_type'].value_counts()[1]+df_train_valid['data_type'].value_counts()[0])*100)\n",
        "print(\"Percentage of signal in test set: \", df_test['data_type'].value_counts()[1]/(df_test['data_type'].value_counts()[1]+df_test['data_type'].value_counts()[0])*100)"
      ],
      "metadata": {
        "colab": {
          "base_uri": "https://localhost:8080/"
        },
        "id": "-lNDeptq3N15",
        "outputId": "0fdb435b-af81-4ef6-d3b1-6af7614e6fa1"
      },
      "execution_count": null,
      "outputs": [
        {
          "output_type": "stream",
          "name": "stdout",
          "text": [
            "Percentage of signal in training set:  1.9767513054430634\n",
            "Percentage of signal in test set:  1.9767455421180917\n"
          ]
        }
      ]
    },
    {
      "cell_type": "markdown",
      "source": [
        "## Detect missing data\n",
        "\n",
        "Since the data is simulated, the (reduced) dataset contains no missing values, and we can use it directly in our random forest without imputing or removing values"
      ],
      "metadata": {
        "id": "sy0PHoEVgTgp"
      }
    },
    {
      "cell_type": "code",
      "source": [
        "df_train_valid.isnull().sum()"
      ],
      "metadata": {
        "colab": {
          "base_uri": "https://localhost:8080/"
        },
        "id": "0FcAdjiUiu23",
        "outputId": "3bb55967-146b-4ff9-fba5-ccd45db7dc84"
      },
      "execution_count": null,
      "outputs": [
        {
          "output_type": "execute_result",
          "data": {
            "text/plain": [
              "jet_2_pt          0\n",
              "jet_1_pt          0\n",
              "jet_1_m           0\n",
              "jet_2_trueflav    0\n",
              "lep_1_pt          0\n",
              "lep_1_E           0\n",
              "lep_2_eta         0\n",
              "lep_3_pt          0\n",
              "jet_7_pt          0\n",
              "jet_8_pt          0\n",
              "lep_1_type        0\n",
              "lep_2_E           0\n",
              "lep_5_pt          0\n",
              "jet_9_pt          0\n",
              "jet_2_MV1         0\n",
              "lep_1_charge      0\n",
              "lep_2_pt          0\n",
              "lep_1_etcone20    0\n",
              "met_et            0\n",
              "lep_2_type        0\n",
              "lep_4_pt          0\n",
              "lep_2_phi         0\n",
              "jet_1_MV1         0\n",
              "jet_1_eta         0\n",
              "jet_2_phi         0\n",
              "jet_3_E           0\n",
              "jet_2_E           0\n",
              "jet_4_pt          0\n",
              "jet_1_SV0         0\n",
              "jet_1_E           0\n",
              "lep_1_phi         0\n",
              "jet_6_pt          0\n",
              "jet_2_jvf         0\n",
              "jet_3_pt          0\n",
              "lep_2_charge      0\n",
              "jet_n             0\n",
              "lep_3_E           0\n",
              "alljet_n          0\n",
              "jet_5_pt          0\n",
              "jet_1_phi         0\n",
              "lep_1_eta         0\n",
              "jet_2_eta         0\n",
              "data_type         0\n",
              "dtype: int64"
            ]
          },
          "metadata": {},
          "execution_count": 18
        }
      ]
    },
    {
      "cell_type": "markdown",
      "source": [
        "## Data balance"
      ],
      "metadata": {
        "id": "6K7SZ09dgXVC"
      }
    },
    {
      "cell_type": "code",
      "source": [
        "sns.countplot(x = 'data_type', data=df_train_valid)"
      ],
      "metadata": {
        "colab": {
          "base_uri": "https://localhost:8080/"
        },
        "id": "z81aa_sIgb3o",
        "outputId": "2695ff64-6dbb-45e6-987f-bf02e7a50b04"
      },
      "execution_count": null,
      "outputs": [
        {
          "output_type": "execute_result",
          "data": {
            "text/plain": [
              "<matplotlib.axes._subplots.AxesSubplot at 0x7fb58dd735d0>"
            ]
          },
          "metadata": {},
          "execution_count": 19
        },
        {
          "output_type": "display_data",
          "data": {
            "text/plain": [
              "<Figure size 432x288 with 1 Axes>"
            ],
            "image/png": "[encoded data removed]"
          },
          "metadata": {
            "needs_background": "light"
          }
        }
      ]
    },
    {
      "cell_type": "markdown",
      "source": [
        "## Data normalization"
      ],
      "metadata": {
        "id": "lynM9xgXgcU6"
      }
    },
    {
      "cell_type": "code",
      "source": [
        "#Normalizing the train_valid dataset\n",
        "[df_train_valid[col].update((df_train_valid[col] - df_train_valid[col].min()) / (df_train_valid[col].max() - df_train_valid[col].min())) for col in df_train_valid[features].columns]\n",
        "print(\"\")"
      ],
      "metadata": {
        "colab": {
          "base_uri": "https://localhost:8080/"
        },
        "id": "qeoLz-GjgeAq",
        "outputId": "7b45729b-0c5b-4c47-b8f6-3b3de8fec8dc"
      },
      "execution_count": null,
      "outputs": [
        {
          "output_type": "stream",
          "name": "stdout",
          "text": [
            "\n"
          ]
        }
      ]
    },
    {
      "cell_type": "code",
      "source": [
        "#Normalizing the test dataset\n",
        "[df_test[col].update((df_test[col] - df_test[col].min()) / (df_test[col].max() - df_test[col].min())) for col in df_test[features].columns]\n",
        "print(\"\")"
      ],
      "metadata": {
        "colab": {
          "base_uri": "https://localhost:8080/"
        },
        "id": "pxHnn7T_gizN",
        "outputId": "680e987f-bb18-4d7a-9dab-8dd7caf986a6"
      },
      "execution_count": null,
      "outputs": [
        {
          "output_type": "stream",
          "name": "stdout",
          "text": [
            "\n"
          ]
        }
      ]
    },
    {
      "cell_type": "markdown",
      "source": [
        "# Modelling"
      ],
      "metadata": {
        "id": "agTRJ5x07p6k"
      }
    },
    {
      "cell_type": "code",
      "source": [
        "fixed_seed = 42\n",
        "set_seed(fixed_seed, True)\n",
        "\n",
        "def set_fixed_seed(dls, fixed_seed):\n",
        "  set_seed(fixed_seed,True)\n",
        "  dls.rng.seed(fixed_seed)"
      ],
      "metadata": {
        "id": "BcxIH2hD78zh"
      },
      "execution_count": null,
      "outputs": []
    },
    {
      "cell_type": "markdown",
      "source": [
        "We use an index plitter to make the training and validation sets. Therefore we need to shuffle the dataframe and we need to make sure that both sets contain an equal amount of signal, more or less. \n",
        "\n",
        "We do this because we want to do over- and undersampling later on, and we need to be user we're only changing the training set, not the validation set. "
      ],
      "metadata": {
        "id": "bdjOvajF8H_b"
      }
    },
    {
      "cell_type": "code",
      "source": [
        "df_train_valid = df_train_valid.sample(frac=1, random_state=fixed_seed).reset_index(drop=True)\n",
        "df_train_valid[\"data_type\"] = df_train_valid[\"data_type\"].astype(\"category\")\n",
        "\n",
        "def get_val_idx(df, valid_pct):\n",
        "  row_cutoff = math.ceil(df.shape[0] * (valid_pct))\n",
        "  return list(range(0, row_cutoff))\n",
        "\n",
        "indexes = get_val_idx(df_train_valid, 0.4)\n",
        "print(\"Percentage of signal in training set: \", df_train_valid[indexes[-1]:]['data_type'].value_counts()[1]/(df_train_valid[indexes[-1]:]['data_type'].value_counts()[1]+df_train_valid[indexes[-1]:]['data_type'].value_counts()[0])*100)\n",
        "print(\"Percentage of signal in validation set: \", df_train_valid[:indexes[-1]]['data_type'].value_counts()[1]/(df_train_valid[:indexes[-1]]['data_type'].value_counts()[1]+df_train_valid[:indexes[-1]]['data_type'].value_counts()[0])*100)"
      ],
      "metadata": {
        "colab": {
          "base_uri": "https://localhost:8080/"
        },
        "id": "wHl_oC9n8HIM",
        "outputId": "78ef07a0-3251-418c-fc21-31dc8bbcdf27"
      },
      "execution_count": null,
      "outputs": [
        {
          "output_type": "stream",
          "name": "stdout",
          "text": [
            "Percentage of signal in training set:  1.9734684208608184\n",
            "Percentage of signal in validation set:  1.9816756502629478\n"
          ]
        }
      ]
    },
    {
      "cell_type": "code",
      "source": [
        "def make_tabular_pandas(df, indexes):\n",
        "  to = TabularPandas(df,\n",
        "                   cont_names = features,\n",
        "                   y_names='data_type',\n",
        "                   splits=IndexSplitter(indexes)(range_of(df)),\n",
        "                   y_block = CategoryBlock())\n",
        "  return to\n",
        "\n",
        "def make_dataloader(to, fixed_seed):\n",
        "  dls = to.dataloaders(bs=1024)\n",
        "  set_fixed_seed(dls, fixed_seed)\n",
        "  return dls"
      ],
      "metadata": {
        "id": "0jZl7d90AUuE"
      },
      "execution_count": null,
      "outputs": []
    },
    {
      "cell_type": "markdown",
      "source": [
        "## Baseline model\n",
        "\n",
        "As we want to compare the baseline to the later deep learning architectures, we need to be sure we're using the same training and validation set. We do this by extracting the sets from the tabular learner object as shown below. "
      ],
      "metadata": {
        "id": "wmjyQ1cZgOet"
      }
    },
    {
      "cell_type": "code",
      "source": [
        "to = TabularPandas(df_train_valid,\n",
        "                   cont_names = features_from_feature_importance,\n",
        "                   y_names='data_type',\n",
        "                   splits=IndexSplitter(indexes)(range_of(df_train_valid)), \n",
        "                   y_block = CategoryBlock())"
      ],
      "metadata": {
        "id": "ZIqhlg-XklS0"
      },
      "execution_count": null,
      "outputs": []
    },
    {
      "cell_type": "code",
      "source": [
        "X_train, y_train = to.train.xs, to.train.ys.values.ravel()\n",
        "X_val, y_val = to.valid.xs, to.valid.ys.values.ravel()"
      ],
      "metadata": {
        "id": "J2hdLcV0lDK_"
      },
      "execution_count": null,
      "outputs": []
    },
    {
      "cell_type": "code",
      "source": [
        "m2 = RandomForestClassifier(random_state=fixed_seed)\n",
        "m2.fit(X_train, y_train)"
      ],
      "metadata": {
        "colab": {
          "base_uri": "https://localhost:8080/"
        },
        "id": "VN2ArivtgRBA",
        "outputId": "9b1fe4f1-c7de-4f67-f5b3-95f10718b1cd"
      },
      "execution_count": null,
      "outputs": [
        {
          "output_type": "execute_result",
          "data": {
            "text/plain": [
              "RandomForestClassifier(random_state=42)"
            ]
          },
          "metadata": {},
          "execution_count": 27
        }
      ]
    },
    {
      "cell_type": "code",
      "source": [
        "preds = m2.predict(X_val)"
      ],
      "metadata": {
        "id": "Fd6BMEnWkhvv"
      },
      "execution_count": null,
      "outputs": []
    },
    {
      "cell_type": "code",
      "source": [
        "print(\"Accuracy:\",accuracy_score(y_val, preds))"
      ],
      "metadata": {
        "colab": {
          "base_uri": "https://localhost:8080/"
        },
        "id": "Re2AwxTZkh2B",
        "outputId": "c843baaf-37c3-40e4-fc05-7107e7965bb1"
      },
      "execution_count": null,
      "outputs": [
        {
          "output_type": "stream",
          "name": "stdout",
          "text": [
            "Accuracy: 0.9953478710086537\n"
          ]
        }
      ]
    },
    {
      "cell_type": "code",
      "source": [
        "from sklearn.metrics import confusion_matrix, ConfusionMatrixDisplay\n",
        "\n",
        "conf = confusion_matrix(y_val, preds)\n",
        "conf_matrix = ConfusionMatrixDisplay(conf)\n",
        "conf_matrix.plot()\n",
        "plt.show()"
      ],
      "metadata": {
        "colab": {
          "base_uri": "https://localhost:8080/",
          "height": 284
        },
        "id": "rhm7ql0aqB3e",
        "outputId": "8b4cee0b-6807-41ac-b544-00dccc302019"
      },
      "execution_count": null,
      "outputs": [
        {
          "output_type": "display_data",
          "data": {
            "text/plain": [
              "<Figure size 432x288 with 2 Axes>"
            ],
            "image/png": "[encoded data removed]"
          },
          "metadata": {
            "needs_background": "light"
          }
        }
      ]
    },
    {
      "cell_type": "code",
      "source": [
        "import matplotlib.pyplot as plt\n",
        "from sklearn.metrics import roc_curve, auc\n",
        "import sklearn.metrics as metrics\n",
        "\n",
        "probs = m2.predict_proba(X_val)\n",
        "preds = probs[:,0]\n",
        "fpr, tpr, threshold = metrics.roc_curve(y_val, preds)\n",
        "roc_auc = metrics.auc(fpr, tpr)\n",
        "\n",
        "# method I: plt\n",
        "import matplotlib.pyplot as plt\n",
        "plt.title('Receiver Operating Characteristic')\n",
        "plt.plot(fpr, tpr, 'r', label = 'AUC = %0.2f' % roc_auc)\n",
        "plt.legend(loc = 'lower right')\n",
        "plt.plot([0, 1], [0, 1],color='navy', linestyle='--')\n",
        "plt.xlim([0, 1])\n",
        "plt.ylim([0, 1])\n",
        "plt.ylabel('True Positive Rate')\n",
        "plt.xlabel('False Positive Rate')\n",
        "plt.show()"
      ],
      "metadata": {
        "colab": {
          "base_uri": "https://localhost:8080/",
          "height": 302
        },
        "id": "0YypgQQesV-b",
        "outputId": "558af8ab-d7f9-4c95-b468-5fe8dd609967"
      },
      "execution_count": null,
      "outputs": [
        {
          "output_type": "display_data",
          "data": {
            "text/plain": [
              "<Figure size 432x288 with 1 Axes>"
            ],
            "image/png": "[encoded data removed]"
          },
          "metadata": {
            "needs_background": "light"
          }
        }
      ]
    },
    {
      "cell_type": "code",
      "source": [
        "# Plotting the data\n",
        "plt.clf()\n",
        "plt.figure(figsize=(12,8))\n",
        "\n",
        "signal_pred = []\n",
        "background_pred = []\n",
        "\n",
        "probs = m2.predict_proba(X_val)\n",
        "preds = probs[:,1]\n",
        "\n",
        "X_val_plot = X_val.copy()\n",
        "X_val_plot[\"data_type\"] = y_val\n",
        "X_val_plot[\"predicted\"] = preds\n",
        "\n",
        "predicted_background = X_val_plot.loc[X_val_plot['data_type'] == 0, 'predicted']\n",
        "predicted_signal = X_val_plot.loc[X_val_plot['data_type'] == 1, 'predicted']\n",
        "\n",
        "#histBins=np.histogram(np.hstack([*background_predict[0],*preds.numpy()]), bins=50)[1]\n",
        "\n",
        "plt.hist( predicted_background, bins=50, color='darkgreen', stacked=True, label='background', alpha=0.5)\n",
        "plt.hist( predicted_signal, bins=50, color='dodgerblue', stacked=True, label='signal', alpha=0.5)\n",
        "\n",
        "plt.legend(loc='best', prop={'size': 7})\n",
        "plt.xlabel('Outputs')\n",
        "plt.ylabel('events per bin')\n",
        "plt.yscale('log')\n",
        "plt.xlim(right=1)\n",
        "plt.show()"
      ],
      "metadata": {
        "colab": {
          "base_uri": "https://localhost:8080/",
          "height": 521
        },
        "id": "wR0970et_BfL",
        "outputId": "15e1a25f-f074-4f4e-c471-092edad4b1aa"
      },
      "execution_count": null,
      "outputs": [
        {
          "output_type": "display_data",
          "data": {
            "text/plain": [
              "<Figure size 432x288 with 0 Axes>"
            ]
          },
          "metadata": {}
        },
        {
          "output_type": "display_data",
          "data": {
            "text/plain": [
              "<Figure size 864x576 with 1 Axes>"
            ],
            "image/png": "[encoded data removed]"
          },
          "metadata": {
            "needs_background": "light"
          }
        }
      ]
    },
    {
      "cell_type": "code",
      "source": [
        "del to"
      ],
      "metadata": {
        "id": "LK1V6IeVAYPJ"
      },
      "execution_count": null,
      "outputs": []
    },
    {
      "cell_type": "markdown",
      "source": [
        "## Neural Networks"
      ],
      "metadata": {
        "id": "uPWhOh6RubE6"
      }
    },
    {
      "cell_type": "code",
      "source": [
        "# plotting functions for NN\n",
        "\n",
        "def plot_confusion_matrix(y_true, y_pred_binary):\n",
        "  conf = confusion_matrix(y_true, y_pred_binary)\n",
        "  conf_matrix = ConfusionMatrixDisplay(conf)\n",
        "  conf_matrix.plot()\n",
        "  plt.show()\n",
        "\n",
        "def plot_ROC_curve(y_true, y_pred):\n",
        "  fpr, tpr, thresholds = roc_curve(y_true, y_pred)\n",
        "  roc_auc = auc(fpr, tpr)\n",
        "\n",
        "  plt.figure()\n",
        "  plt.plot(fpr, tpr, color='darkorange', lw=1, label='ROC curve (area = %0.2f)' % roc_auc)\n",
        "  plt.plot([0, 1], [0, 1], color='navy', lw=1, linestyle='--')\n",
        "  plt.xlim([0.0, 1.0])\n",
        "  plt.ylim([0.0, 1.05])\n",
        "  plt.xlabel('False Positive Rate')\n",
        "  plt.ylabel('True Positive Rate')\n",
        "  plt.title('Receiver operating characteristic')\n",
        "  plt.legend(loc=\"lower right\")\n",
        "  plt.show()\n",
        "\n",
        "def plot_signal_background(y_true, y_pred):\n",
        "  plt.clf()\n",
        "  plt.figure(figsize=(12,8))\n",
        "  \n",
        "  X_val_plot = x_val_nn.copy()\n",
        "  X_val_plot[\"data_type\"] = y_true\n",
        "  X_val_plot[\"predicted\"] = y_pred\n",
        "\n",
        "  predicted_background = X_val_plot.loc[X_val_plot['data_type'] == 0, 'predicted']\n",
        "  predicted_signal = X_val_plot.loc[X_val_plot['data_type'] == 1, 'predicted']\n",
        "\n",
        "  plt.hist( predicted_background, bins=50, color='darkgreen', stacked=True, label='background', alpha=0.5)\n",
        "  plt.hist( predicted_signal, bins=40, color='dodgerblue', stacked=True, label='signal', alpha=0.5)\n",
        "\n",
        "  plt.legend(loc='best', prop={'size': 7})\n",
        "  plt.xlabel('Outputs')\n",
        "  plt.ylabel('events per bin')\n",
        "  plt.yscale('log')\n",
        "  plt.xlim(left=min(min(predicted_background), min(predicted_signal)), right=max(max(predicted_background), max(predicted_signal)))\n",
        "  plt.show()"
      ],
      "metadata": {
        "id": "_J-MwsWoSnwl"
      },
      "execution_count": null,
      "outputs": []
    },
    {
      "cell_type": "markdown",
      "source": [
        "### Basic tabular learner"
      ],
      "metadata": {
        "id": "-PJSrLx2_0UF"
      }
    },
    {
      "cell_type": "code",
      "source": [
        "f1 = F1Score()\n",
        "recall = Recall()\n",
        "precision = Precision()\n",
        "\n",
        "to = make_tabular_pandas(df_train_valid, indexes)\n",
        "dls = make_dataloader(to, fixed_seed)\n",
        "learn = tabular_learner(dls, metrics=[accuracy, f1, recall, precision], y_range=[0,1], cbs=ShowGraphCallback())"
      ],
      "metadata": {
        "id": "mh1B98U4xU8d"
      },
      "execution_count": null,
      "outputs": []
    },
    {
      "cell_type": "code",
      "source": [
        "learn.fit_one_cycle(10)"
      ],
      "metadata": {
        "colab": {
          "base_uri": "https://localhost:8080/",
          "height": 613
        },
        "id": "TI1cd9AnxY2g",
        "outputId": "878d6371-387a-4e65-e212-4d235d440da1"
      },
      "execution_count": null,
      "outputs": [
        {
          "output_type": "display_data",
          "data": {
            "text/plain": [
              "<IPython.core.display.HTML object>"
            ],
            "text/html": [
              "\n",
              "<style>\n",
              "    /* Turns off some styling */\n",
              "    progress {\n",
              "        /* gets rid of default border in Firefox and Opera. */\n",
              "        border: none;\n",
              "        /* Needs to be in here for Safari polyfill so background images work as expected. */\n",
              "        background-size: auto;\n",
              "    }\n",
              "    .progress-bar-interrupted, .progress-bar-interrupted::-webkit-progress-bar {\n",
              "        background: #F44336;\n",
              "    }\n",
              "</style>\n"
            ]
          },
          "metadata": {}
        },
        {
          "output_type": "display_data",
          "data": {
            "text/plain": [
              "<IPython.core.display.HTML object>"
            ],
            "text/html": [
              "<table border=\"1\" class=\"dataframe\">\n",
              "  <thead>\n",
              "    <tr style=\"text-align: left;\">\n",
              "      <th>epoch</th>\n",
              "      <th>train_loss</th>\n",
              "      <th>valid_loss</th>\n",
              "      <th>accuracy</th>\n",
              "      <th>f1_score</th>\n",
              "      <th>recall_score</th>\n",
              "      <th>precision_score</th>\n",
              "      <th>time</th>\n",
              "    </tr>\n",
              "  </thead>\n",
              "  <tbody>\n",
              "    <tr>\n",
              "      <td>0</td>\n",
              "      <td>0.548550</td>\n",
              "      <td>0.495180</td>\n",
              "      <td>0.864399</td>\n",
              "      <td>0.219650</td>\n",
              "      <td>0.963034</td>\n",
              "      <td>0.123961</td>\n",
              "      <td>00:09</td>\n",
              "    </tr>\n",
              "    <tr>\n",
              "      <td>1</td>\n",
              "      <td>0.351264</td>\n",
              "      <td>0.331934</td>\n",
              "      <td>0.988017</td>\n",
              "      <td>0.658886</td>\n",
              "      <td>0.584000</td>\n",
              "      <td>0.755801</td>\n",
              "      <td>00:09</td>\n",
              "    </tr>\n",
              "    <tr>\n",
              "      <td>2</td>\n",
              "      <td>0.325461</td>\n",
              "      <td>0.324578</td>\n",
              "      <td>0.989116</td>\n",
              "      <td>0.671072</td>\n",
              "      <td>0.560276</td>\n",
              "      <td>0.836491</td>\n",
              "      <td>00:10</td>\n",
              "    </tr>\n",
              "    <tr>\n",
              "      <td>3</td>\n",
              "      <td>0.324578</td>\n",
              "      <td>0.324157</td>\n",
              "      <td>0.988925</td>\n",
              "      <td>0.687827</td>\n",
              "      <td>0.615724</td>\n",
              "      <td>0.779058</td>\n",
              "      <td>00:09</td>\n",
              "    </tr>\n",
              "    <tr>\n",
              "      <td>4</td>\n",
              "      <td>0.324294</td>\n",
              "      <td>0.323696</td>\n",
              "      <td>0.989482</td>\n",
              "      <td>0.666898</td>\n",
              "      <td>0.531310</td>\n",
              "      <td>0.895397</td>\n",
              "      <td>00:11</td>\n",
              "    </tr>\n",
              "    <tr>\n",
              "      <td>5</td>\n",
              "      <td>0.324194</td>\n",
              "      <td>0.323546</td>\n",
              "      <td>0.989438</td>\n",
              "      <td>0.670532</td>\n",
              "      <td>0.542345</td>\n",
              "      <td>0.878071</td>\n",
              "      <td>00:09</td>\n",
              "    </tr>\n",
              "    <tr>\n",
              "      <td>6</td>\n",
              "      <td>0.323496</td>\n",
              "      <td>0.323685</td>\n",
              "      <td>0.989362</td>\n",
              "      <td>0.664367</td>\n",
              "      <td>0.531310</td>\n",
              "      <td>0.886332</td>\n",
              "      <td>00:09</td>\n",
              "    </tr>\n",
              "    <tr>\n",
              "      <td>7</td>\n",
              "      <td>0.323496</td>\n",
              "      <td>0.323478</td>\n",
              "      <td>0.989548</td>\n",
              "      <td>0.681546</td>\n",
              "      <td>0.564414</td>\n",
              "      <td>0.860025</td>\n",
              "      <td>00:09</td>\n",
              "    </tr>\n",
              "    <tr>\n",
              "      <td>8</td>\n",
              "      <td>0.323602</td>\n",
              "      <td>0.323410</td>\n",
              "      <td>0.989581</td>\n",
              "      <td>0.681697</td>\n",
              "      <td>0.563034</td>\n",
              "      <td>0.863733</td>\n",
              "      <td>00:09</td>\n",
              "    </tr>\n",
              "    <tr>\n",
              "      <td>9</td>\n",
              "      <td>0.323645</td>\n",
              "      <td>0.323497</td>\n",
              "      <td>0.989619</td>\n",
              "      <td>0.674773</td>\n",
              "      <td>0.543448</td>\n",
              "      <td>0.889792</td>\n",
              "      <td>00:09</td>\n",
              "    </tr>\n",
              "  </tbody>\n",
              "</table>"
            ]
          },
          "metadata": {}
        },
        {
          "output_type": "display_data",
          "data": {
            "text/plain": [
              "<Figure size 432x288 with 1 Axes>"
            ],
            "image/png": "[encoded data removed]"
          },
          "metadata": {}
        }
      ]
    },
    {
      "cell_type": "markdown",
      "source": [
        "We can see that the model doesn't seem to imporve with more training. "
      ],
      "metadata": {
        "id": "BaS5cuy_U7oE"
      }
    },
    {
      "cell_type": "code",
      "source": [
        "X_train, y_train = to.train.xs, to.train.ys.values.ravel()\n",
        "x_val_nn, v_val_nn = to.valid.xs, to.valid.ys.values.ravel()"
      ],
      "metadata": {
        "id": "VTZl-AQEg8iS"
      },
      "execution_count": null,
      "outputs": []
    },
    {
      "cell_type": "code",
      "source": [
        "test_dl = learn.dls.test_dl(df_train_valid[:indexes[-1]+1])\n",
        "predicted_df_nn, targs =  learn.get_preds(dl = test_dl)"
      ],
      "metadata": {
        "id": "8A-dBb73jAsU",
        "colab": {
          "base_uri": "https://localhost:8080/",
          "height": 16
        },
        "outputId": "14b68f37-edc4-4866-bbd5-41ed2ab58848"
      },
      "execution_count": null,
      "outputs": [
        {
          "output_type": "display_data",
          "data": {
            "text/plain": [
              "<IPython.core.display.HTML object>"
            ],
            "text/html": [
              "\n",
              "<style>\n",
              "    /* Turns off some styling */\n",
              "    progress {\n",
              "        /* gets rid of default border in Firefox and Opera. */\n",
              "        border: none;\n",
              "        /* Needs to be in here for Safari polyfill so background images work as expected. */\n",
              "        background-size: auto;\n",
              "    }\n",
              "    .progress-bar-interrupted, .progress-bar-interrupted::-webkit-progress-bar {\n",
              "        background: #F44336;\n",
              "    }\n",
              "</style>\n"
            ]
          },
          "metadata": {}
        },
        {
          "output_type": "display_data",
          "data": {
            "text/plain": [
              "<IPython.core.display.HTML object>"
            ],
            "text/html": [
              ""
            ]
          },
          "metadata": {}
        }
      ]
    },
    {
      "cell_type": "code",
      "source": [
        "def get_predictions_int(predictions):\n",
        "  predicted = []\n",
        "  for i in predictions:\n",
        "    if i[0] > i[1]:\n",
        "      predicted.append(0)\n",
        "    else:\n",
        "      predicted.append(1)\n",
        "  return predicted"
      ],
      "metadata": {
        "id": "pf3p1vnypkP-"
      },
      "execution_count": null,
      "outputs": []
    },
    {
      "cell_type": "code",
      "source": [
        "predicted = get_predictions_int(predicted_df_nn)\n",
        "plot_confusion_matrix(v_val_nn, predicted)"
      ],
      "metadata": {
        "colab": {
          "base_uri": "https://localhost:8080/",
          "height": 284
        },
        "id": "M1dzkSZsgbAa",
        "outputId": "6210f9e8-6a4c-4bb5-e389-0ce5824de182"
      },
      "execution_count": null,
      "outputs": [
        {
          "output_type": "display_data",
          "data": {
            "text/plain": [
              "<Figure size 432x288 with 2 Axes>"
            ],
            "image/png": "[encoded data removed]"
          },
          "metadata": {
            "needs_background": "light"
          }
        }
      ]
    },
    {
      "cell_type": "code",
      "source": [
        "probs = predicted_df_nn\n",
        "preds = probs[:,1]\n",
        "\n",
        "plot_signal_background(v_val_nn, preds)"
      ],
      "metadata": {
        "colab": {
          "base_uri": "https://localhost:8080/",
          "height": 521
        },
        "id": "2dXOMtbHVMRk",
        "outputId": "bb2e00f6-1ba6-45da-e770-6023ba678d1e"
      },
      "execution_count": null,
      "outputs": [
        {
          "output_type": "display_data",
          "data": {
            "text/plain": [
              "<Figure size 432x288 with 0 Axes>"
            ]
          },
          "metadata": {}
        },
        {
          "output_type": "display_data",
          "data": {
            "text/plain": [
              "<Figure size 864x576 with 1 Axes>"
            ],
            "image/png": "[encoded data removed]"
          },
          "metadata": {
            "needs_background": "light"
          }
        }
      ]
    },
    {
      "cell_type": "code",
      "source": [
        "plot_ROC_curve(v_val_nn, preds)"
      ],
      "metadata": {
        "colab": {
          "base_uri": "https://localhost:8080/",
          "height": 302
        },
        "id": "hu365y2DVPAF",
        "outputId": "d647706d-9782-4688-ea13-5ceb5646f8a2"
      },
      "execution_count": null,
      "outputs": [
        {
          "output_type": "display_data",
          "data": {
            "text/plain": [
              "<Figure size 432x288 with 1 Axes>"
            ],
            "image/png": "[encoded data removed]"
          },
          "metadata": {
            "needs_background": "light"
          }
        }
      ]
    },
    {
      "cell_type": "code",
      "source": [
        "del to\n",
        "del learn\n",
        "del dls\n",
        "gc.collect()"
      ],
      "metadata": {
        "colab": {
          "base_uri": "https://localhost:8080/"
        },
        "id": "c-dnDQb6xc1Z",
        "outputId": "342dc35c-56c0-412e-b864-8495ca00ac9a"
      },
      "execution_count": null,
      "outputs": [
        {
          "output_type": "execute_result",
          "data": {
            "text/plain": [
              "22302"
            ]
          },
          "metadata": {},
          "execution_count": 43
        }
      ]
    },
    {
      "cell_type": "markdown",
      "source": [
        "### Tabular learner with optuna optimization\n",
        "\n",
        "From previous trials we found that more layers gave lower validation loss, but due to time restrictions and precessing costs we limited the number of hidden layers in the architecture to 5. \n",
        "Not run in this version due to time constraints."
      ],
      "metadata": {
        "id": "w_ZGP0QQ_4d0"
      }
    },
    {
      "cell_type": "code",
      "source": [
        "to = make_tabular_pandas(df_train_valid, indexes)\n",
        "dls = make_dataloader(to, fixed_seed)"
      ],
      "metadata": {
        "id": "WQfbYzrMAhJG"
      },
      "execution_count": null,
      "outputs": []
    },
    {
      "cell_type": "code",
      "source": [
        "def objective(trial: optuna.Trial):\n",
        "    n_layers = 5\n",
        "    layers = [] \n",
        "    for i in range(n_layers - 1):  #TabularModel adds the last layer.\n",
        "        num_units = trial.suggest_categorical(f'num_units_layer_{i}', [800, 1000, 1200])\n",
        "        layers.append(num_units)\n",
        "        \n",
        "    emb_szs = trial.suggest_discrete_uniform('emb_szs', 0, 1, 0.1)\n",
        "    learn = tabular_learner(dls, layers=layers, emb_szs=emb_szs,  metrics=[accuracy, f1, recall, precision], y_range=[0,1])\n",
        "    \n",
        "    learn.fit_one_cycle(5)\n",
        "    return learn.validate()[0] # or use the last record of `learn.recorder`.\n",
        "\n",
        "# skip due to time requirements \n",
        "#study = optuna.create_study()\n",
        "#study.optimize(objective)\n",
        "#best_trial = study.best_trial"
      ],
      "metadata": {
        "id": "cngNxZq6Ao0X"
      },
      "execution_count": null,
      "outputs": []
    },
    {
      "cell_type": "markdown",
      "source": [
        "The study showed that the best outcome (measured by validation loss) is using layers 800, 1000, 1200 + the final layer the tabluar model applies, and embedding size of 0.1 "
      ],
      "metadata": {
        "id": "TE2FxrLl_ReF"
      }
    },
    {
      "cell_type": "code",
      "source": [
        "to = make_tabular_pandas(df_train_valid, indexes)\n",
        "dls = make_dataloader(to, fixed_seed)\n",
        "learn = tabular_learner(dls, metrics=[accuracy, f1, recall, precision], layers=[800, 1000, 1200], emb_szs=0.1, y_range=[0,1], cbs=ShowGraphCallback())"
      ],
      "metadata": {
        "id": "UjNTYmDA-2HL"
      },
      "execution_count": null,
      "outputs": []
    },
    {
      "cell_type": "code",
      "source": [
        "learn.fit_one_cycle(10)"
      ],
      "metadata": {
        "colab": {
          "base_uri": "https://localhost:8080/"
        },
        "id": "ZSmSUbPm_uqZ",
        "outputId": "20637f5d-e03a-4099-bacb-2d63f274425b"
      },
      "execution_count": null,
      "outputs": [
        {
          "output_type": "display_data",
          "data": {
            "text/plain": [
              "<IPython.core.display.HTML object>"
            ],
            "text/html": [
              "\n",
              "<style>\n",
              "    /* Turns off some styling */\n",
              "    progress {\n",
              "        /* gets rid of default border in Firefox and Opera. */\n",
              "        border: none;\n",
              "        /* Needs to be in here for Safari polyfill so background images work as expected. */\n",
              "        background-size: auto;\n",
              "    }\n",
              "    .progress-bar-interrupted, .progress-bar-interrupted::-webkit-progress-bar {\n",
              "        background: #F44336;\n",
              "    }\n",
              "</style>\n"
            ]
          },
          "metadata": {}
        },
        {
          "output_type": "display_data",
          "data": {
            "text/plain": [
              "<IPython.core.display.HTML object>"
            ],
            "text/html": [
              "<table border=\"1\" class=\"dataframe\">\n",
              "  <thead>\n",
              "    <tr style=\"text-align: left;\">\n",
              "      <th>epoch</th>\n",
              "      <th>train_loss</th>\n",
              "      <th>valid_loss</th>\n",
              "      <th>accuracy</th>\n",
              "      <th>f1_score</th>\n",
              "      <th>recall_score</th>\n",
              "      <th>precision_score</th>\n",
              "      <th>time</th>\n",
              "    </tr>\n",
              "  </thead>\n",
              "  <tbody>\n",
              "    <tr>\n",
              "      <td>0</td>\n",
              "      <td>0.384686</td>\n",
              "      <td>0.352855</td>\n",
              "      <td>0.958300</td>\n",
              "      <td>0.424128</td>\n",
              "      <td>0.774897</td>\n",
              "      <td>0.291965</td>\n",
              "      <td>02:26</td>\n",
              "    </tr>\n",
              "    <tr>\n",
              "      <td>1</td>\n",
              "      <td>0.327938</td>\n",
              "      <td>0.325572</td>\n",
              "      <td>0.988083</td>\n",
              "      <td>0.625687</td>\n",
              "      <td>0.502621</td>\n",
              "      <td>0.828558</td>\n",
              "      <td>02:24</td>\n",
              "    </tr>\n",
              "    <tr>\n",
              "      <td>2</td>\n",
              "      <td>0.325026</td>\n",
              "      <td>0.324334</td>\n",
              "      <td>0.988755</td>\n",
              "      <td>0.670511</td>\n",
              "      <td>0.577379</td>\n",
              "      <td>0.799465</td>\n",
              "      <td>02:25</td>\n",
              "    </tr>\n",
              "    <tr>\n",
              "      <td>3</td>\n",
              "      <td>0.325030</td>\n",
              "      <td>0.324316</td>\n",
              "      <td>0.988832</td>\n",
              "      <td>0.670218</td>\n",
              "      <td>0.572690</td>\n",
              "      <td>0.807782</td>\n",
              "      <td>02:24</td>\n",
              "    </tr>\n",
              "    <tr>\n",
              "      <td>4</td>\n",
              "      <td>0.325041</td>\n",
              "      <td>0.324091</td>\n",
              "      <td>0.989001</td>\n",
              "      <td>0.641099</td>\n",
              "      <td>0.495724</td>\n",
              "      <td>0.907118</td>\n",
              "      <td>02:25</td>\n",
              "    </tr>\n",
              "    <tr>\n",
              "      <td>5</td>\n",
              "      <td>0.324615</td>\n",
              "      <td>0.323904</td>\n",
              "      <td>0.989187</td>\n",
              "      <td>0.655880</td>\n",
              "      <td>0.520000</td>\n",
              "      <td>0.887894</td>\n",
              "      <td>02:24</td>\n",
              "    </tr>\n",
              "    <tr>\n",
              "      <td>6</td>\n",
              "      <td>0.324007</td>\n",
              "      <td>0.323789</td>\n",
              "      <td>0.989176</td>\n",
              "      <td>0.677104</td>\n",
              "      <td>0.572690</td>\n",
              "      <td>0.828081</td>\n",
              "      <td>02:24</td>\n",
              "    </tr>\n",
              "    <tr>\n",
              "      <td>7</td>\n",
              "      <td>0.323872</td>\n",
              "      <td>0.323822</td>\n",
              "      <td>0.989389</td>\n",
              "      <td>0.679014</td>\n",
              "      <td>0.566345</td>\n",
              "      <td>0.847647</td>\n",
              "      <td>02:26</td>\n",
              "    </tr>\n",
              "    <tr>\n",
              "      <td>8</td>\n",
              "      <td>0.324184</td>\n",
              "      <td>0.323658</td>\n",
              "      <td>0.989411</td>\n",
              "      <td>0.672417</td>\n",
              "      <td>0.548414</td>\n",
              "      <td>0.868881</td>\n",
              "      <td>02:25</td>\n",
              "    </tr>\n",
              "    <tr>\n",
              "      <td>9</td>\n",
              "      <td>0.324140</td>\n",
              "      <td>0.323653</td>\n",
              "      <td>0.989318</td>\n",
              "      <td>0.653792</td>\n",
              "      <td>0.508966</td>\n",
              "      <td>0.913819</td>\n",
              "      <td>02:25</td>\n",
              "    </tr>\n",
              "  </tbody>\n",
              "</table>"
            ]
          },
          "metadata": {}
        },
        {
          "output_type": "display_data",
          "data": {
            "text/plain": [
              "<Figure size 432x288 with 1 Axes>"
            ],
            "image/png": "[encoded data removed]"
          },
          "metadata": {}
        }
      ]
    },
    {
      "cell_type": "code",
      "source": [
        "del to\n",
        "del learn\n",
        "del dls\n",
        "gc.collect()"
      ],
      "metadata": {
        "colab": {
          "base_uri": "https://localhost:8080/"
        },
        "id": "LedSbLPuAb9Z",
        "outputId": "940b32f5-5ce6-4e6e-dd28-d8d2a5ffa84e"
      },
      "execution_count": null,
      "outputs": [
        {
          "output_type": "execute_result",
          "data": {
            "text/plain": [
              "7583"
            ]
          },
          "metadata": {},
          "execution_count": 48
        }
      ]
    },
    {
      "cell_type": "markdown",
      "source": [
        "### Oversampling"
      ],
      "metadata": {
        "id": "RvNJH744yeiR"
      }
    },
    {
      "cell_type": "code",
      "source": [
        "sampling_strategies = [\"minority\", \"not minority\", \"all\"]\n",
        "\n",
        "valid = df_train_valid[:indexes[-1]].copy()\n",
        "x = df_train_valid[indexes[-1]:].copy()\n",
        "y = x[\"data_type\"]\n",
        "x.drop([\"data_type\"], axis=1)\n",
        "\n",
        "def oversample_data(sampling_strategy, x, y):\n",
        "  oversample = RandomOverSampler(sampling_strategy=sampling_strategy, random_state=fixed_seed)\n",
        "  X_over, y_over = oversample.fit_resample(x, y)\n",
        "\n",
        "  X_over[\"data_type\"] = y_over\n",
        "  df_train_valid_oversampled = X_over\n",
        "\n",
        "  df_train_valid_oversampled = pd.concat([valid, df_train_valid_oversampled], ignore_index=True)\n",
        "  return df_train_valid_oversampled\n",
        "\n",
        "for sampling_strategy in sampling_strategies:\n",
        "  print(\"Oversampling using \", str(sampling_strategy), \"strategy.\")\n",
        "  df_train_valid_oversampled = oversample_data(sampling_strategy, x, y)\n",
        "  to = make_tabular_pandas(df_train_valid_oversampled, indexes)\n",
        "  dls = make_dataloader(to, fixed_seed)\n",
        "  learn = tabular_learner(dls, metrics=[accuracy, f1, recall, precision], y_range=[0,1])\n",
        "\n",
        "  learn.fit_one_cycle(5)\n",
        "\n",
        "  del to\n",
        "  del learn\n",
        "  del dls\n",
        "  gc.collect()"
      ],
      "metadata": {
        "id": "SGsDg7CfylcK",
        "colab": {
          "base_uri": "https://localhost:8080/",
          "height": 640
        },
        "outputId": "f3ce4b37-7853-4d7c-bdd4-299718beacdd"
      },
      "execution_count": null,
      "outputs": [
        {
          "output_type": "stream",
          "name": "stdout",
          "text": [
            "Oversampling using  minority strategy.\n"
          ]
        },
        {
          "output_type": "display_data",
          "data": {
            "text/plain": [
              "<IPython.core.display.HTML object>"
            ],
            "text/html": [
              "\n",
              "<style>\n",
              "    /* Turns off some styling */\n",
              "    progress {\n",
              "        /* gets rid of default border in Firefox and Opera. */\n",
              "        border: none;\n",
              "        /* Needs to be in here for Safari polyfill so background images work as expected. */\n",
              "        background-size: auto;\n",
              "    }\n",
              "    .progress-bar-interrupted, .progress-bar-interrupted::-webkit-progress-bar {\n",
              "        background: #F44336;\n",
              "    }\n",
              "</style>\n"
            ]
          },
          "metadata": {}
        },
        {
          "output_type": "display_data",
          "data": {
            "text/plain": [
              "<IPython.core.display.HTML object>"
            ],
            "text/html": [
              "<table border=\"1\" class=\"dataframe\">\n",
              "  <thead>\n",
              "    <tr style=\"text-align: left;\">\n",
              "      <th>epoch</th>\n",
              "      <th>train_loss</th>\n",
              "      <th>valid_loss</th>\n",
              "      <th>accuracy</th>\n",
              "      <th>f1_score</th>\n",
              "      <th>recall_score</th>\n",
              "      <th>precision_score</th>\n",
              "      <th>time</th>\n",
              "    </tr>\n",
              "  </thead>\n",
              "  <tbody>\n",
              "    <tr>\n",
              "      <td>0</td>\n",
              "      <td>0.370001</td>\n",
              "      <td>0.397374</td>\n",
              "      <td>0.913293</td>\n",
              "      <td>0.303701</td>\n",
              "      <td>0.954207</td>\n",
              "      <td>0.180589</td>\n",
              "      <td>00:15</td>\n",
              "    </tr>\n",
              "    <tr>\n",
              "      <td>1</td>\n",
              "      <td>0.349406</td>\n",
              "      <td>0.365526</td>\n",
              "      <td>0.945864</td>\n",
              "      <td>0.396416</td>\n",
              "      <td>0.897103</td>\n",
              "      <td>0.254420</td>\n",
              "      <td>00:15</td>\n",
              "    </tr>\n",
              "    <tr>\n",
              "      <td>2</td>\n",
              "      <td>0.331825</td>\n",
              "      <td>0.339875</td>\n",
              "      <td>0.972546</td>\n",
              "      <td>0.563000</td>\n",
              "      <td>0.892414</td>\n",
              "      <td>0.411211</td>\n",
              "      <td>00:16</td>\n",
              "    </tr>\n",
              "    <tr>\n",
              "      <td>3</td>\n",
              "      <td>0.326984</td>\n",
              "      <td>0.333672</td>\n",
              "      <td>0.979035</td>\n",
              "      <td>0.624351</td>\n",
              "      <td>0.879172</td>\n",
              "      <td>0.484052</td>\n",
              "      <td>00:28</td>\n",
              "    </tr>\n",
              "    <tr>\n",
              "      <td>4</td>\n",
              "      <td>0.325033</td>\n",
              "      <td>0.332133</td>\n",
              "      <td>0.980495</td>\n",
              "      <td>0.639814</td>\n",
              "      <td>0.874207</td>\n",
              "      <td>0.504537</td>\n",
              "      <td>00:15</td>\n",
              "    </tr>\n",
              "  </tbody>\n",
              "</table>"
            ]
          },
          "metadata": {}
        },
        {
          "output_type": "stream",
          "name": "stdout",
          "text": [
            "Oversampling using  not minority strategy.\n"
          ]
        },
        {
          "output_type": "display_data",
          "data": {
            "text/plain": [
              "<IPython.core.display.HTML object>"
            ],
            "text/html": [
              "\n",
              "<style>\n",
              "    /* Turns off some styling */\n",
              "    progress {\n",
              "        /* gets rid of default border in Firefox and Opera. */\n",
              "        border: none;\n",
              "        /* Needs to be in here for Safari polyfill so background images work as expected. */\n",
              "        background-size: auto;\n",
              "    }\n",
              "    .progress-bar-interrupted, .progress-bar-interrupted::-webkit-progress-bar {\n",
              "        background: #F44336;\n",
              "    }\n",
              "</style>\n"
            ]
          },
          "metadata": {}
        },
        {
          "output_type": "display_data",
          "data": {
            "text/plain": [
              "<IPython.core.display.HTML object>"
            ],
            "text/html": [
              "<table border=\"1\" class=\"dataframe\">\n",
              "  <thead>\n",
              "    <tr style=\"text-align: left;\">\n",
              "      <th>epoch</th>\n",
              "      <th>train_loss</th>\n",
              "      <th>valid_loss</th>\n",
              "      <th>accuracy</th>\n",
              "      <th>f1_score</th>\n",
              "      <th>recall_score</th>\n",
              "      <th>precision_score</th>\n",
              "      <th>time</th>\n",
              "    </tr>\n",
              "  </thead>\n",
              "  <tbody>\n",
              "    <tr>\n",
              "      <td>0</td>\n",
              "      <td>0.452113</td>\n",
              "      <td>0.382528</td>\n",
              "      <td>0.955135</td>\n",
              "      <td>0.409611</td>\n",
              "      <td>0.785379</td>\n",
              "      <td>0.277053</td>\n",
              "      <td>00:08</td>\n",
              "    </tr>\n",
              "    <tr>\n",
              "      <td>1</td>\n",
              "      <td>0.329096</td>\n",
              "      <td>0.326185</td>\n",
              "      <td>0.989007</td>\n",
              "      <td>0.668425</td>\n",
              "      <td>0.559172</td>\n",
              "      <td>0.830738</td>\n",
              "      <td>00:09</td>\n",
              "    </tr>\n",
              "    <tr>\n",
              "      <td>2</td>\n",
              "      <td>0.324514</td>\n",
              "      <td>0.324126</td>\n",
              "      <td>0.989411</td>\n",
              "      <td>0.669736</td>\n",
              "      <td>0.541793</td>\n",
              "      <td>0.876786</td>\n",
              "      <td>00:08</td>\n",
              "    </tr>\n",
              "    <tr>\n",
              "      <td>3</td>\n",
              "      <td>0.324166</td>\n",
              "      <td>0.323603</td>\n",
              "      <td>0.989542</td>\n",
              "      <td>0.678541</td>\n",
              "      <td>0.556966</td>\n",
              "      <td>0.868014</td>\n",
              "      <td>00:08</td>\n",
              "    </tr>\n",
              "    <tr>\n",
              "      <td>4</td>\n",
              "      <td>0.323984</td>\n",
              "      <td>0.323588</td>\n",
              "      <td>0.989542</td>\n",
              "      <td>0.671475</td>\n",
              "      <td>0.539310</td>\n",
              "      <td>0.889445</td>\n",
              "      <td>00:09</td>\n",
              "    </tr>\n",
              "  </tbody>\n",
              "</table>"
            ]
          },
          "metadata": {}
        },
        {
          "output_type": "stream",
          "name": "stdout",
          "text": [
            "Oversampling using  all strategy.\n"
          ]
        },
        {
          "output_type": "display_data",
          "data": {
            "text/plain": [
              "<IPython.core.display.HTML object>"
            ],
            "text/html": [
              "\n",
              "<style>\n",
              "    /* Turns off some styling */\n",
              "    progress {\n",
              "        /* gets rid of default border in Firefox and Opera. */\n",
              "        border: none;\n",
              "        /* Needs to be in here for Safari polyfill so background images work as expected. */\n",
              "        background-size: auto;\n",
              "    }\n",
              "    .progress-bar-interrupted, .progress-bar-interrupted::-webkit-progress-bar {\n",
              "        background: #F44336;\n",
              "    }\n",
              "</style>\n"
            ]
          },
          "metadata": {}
        },
        {
          "output_type": "display_data",
          "data": {
            "text/plain": [
              "<IPython.core.display.HTML object>"
            ],
            "text/html": [
              "<table border=\"1\" class=\"dataframe\">\n",
              "  <thead>\n",
              "    <tr style=\"text-align: left;\">\n",
              "      <th>epoch</th>\n",
              "      <th>train_loss</th>\n",
              "      <th>valid_loss</th>\n",
              "      <th>accuracy</th>\n",
              "      <th>f1_score</th>\n",
              "      <th>recall_score</th>\n",
              "      <th>precision_score</th>\n",
              "      <th>time</th>\n",
              "    </tr>\n",
              "  </thead>\n",
              "  <tbody>\n",
              "    <tr>\n",
              "      <td>0</td>\n",
              "      <td>0.370001</td>\n",
              "      <td>0.397374</td>\n",
              "      <td>0.913293</td>\n",
              "      <td>0.303701</td>\n",
              "      <td>0.954207</td>\n",
              "      <td>0.180589</td>\n",
              "      <td>00:16</td>\n",
              "    </tr>\n",
              "    <tr>\n",
              "      <td>1</td>\n",
              "      <td>0.349406</td>\n",
              "      <td>0.365526</td>\n",
              "      <td>0.945864</td>\n",
              "      <td>0.396416</td>\n",
              "      <td>0.897103</td>\n",
              "      <td>0.254420</td>\n",
              "      <td>00:16</td>\n",
              "    </tr>\n",
              "    <tr>\n",
              "      <td>2</td>\n",
              "      <td>0.331825</td>\n",
              "      <td>0.339875</td>\n",
              "      <td>0.972546</td>\n",
              "      <td>0.563000</td>\n",
              "      <td>0.892414</td>\n",
              "      <td>0.411211</td>\n",
              "      <td>00:16</td>\n",
              "    </tr>\n",
              "    <tr>\n",
              "      <td>3</td>\n",
              "      <td>0.326984</td>\n",
              "      <td>0.333672</td>\n",
              "      <td>0.979035</td>\n",
              "      <td>0.624351</td>\n",
              "      <td>0.879172</td>\n",
              "      <td>0.484052</td>\n",
              "      <td>00:16</td>\n",
              "    </tr>\n",
              "    <tr>\n",
              "      <td>4</td>\n",
              "      <td>0.325033</td>\n",
              "      <td>0.332133</td>\n",
              "      <td>0.980495</td>\n",
              "      <td>0.639814</td>\n",
              "      <td>0.874207</td>\n",
              "      <td>0.504537</td>\n",
              "      <td>00:17</td>\n",
              "    </tr>\n",
              "  </tbody>\n",
              "</table>"
            ]
          },
          "metadata": {}
        }
      ]
    },
    {
      "cell_type": "markdown",
      "source": [
        "The best result of the above tests was oversampling the majority class only."
      ],
      "metadata": {
        "id": "Yuay7QtNNSvU"
      }
    },
    {
      "cell_type": "code",
      "source": [
        "df_train_valid_oversampled = oversample_data(\"not minority\", x, y)\n",
        "to = make_tabular_pandas(df_train_valid_oversampled, indexes)\n",
        "dls = make_dataloader(to, fixed_seed)\n",
        "learn = tabular_learner(dls, metrics=[accuracy, f1, recall, precision], y_range=[0,1])\n",
        "\n",
        "learn.fit_one_cycle(10)"
      ],
      "metadata": {
        "colab": {
          "base_uri": "https://localhost:8080/",
          "height": 363
        },
        "id": "rvx5-wdMFOUx",
        "outputId": "ede3faa6-9686-4dae-9174-291719170a93"
      },
      "execution_count": null,
      "outputs": [
        {
          "output_type": "display_data",
          "data": {
            "text/plain": [
              "<IPython.core.display.HTML object>"
            ],
            "text/html": [
              "\n",
              "<style>\n",
              "    /* Turns off some styling */\n",
              "    progress {\n",
              "        /* gets rid of default border in Firefox and Opera. */\n",
              "        border: none;\n",
              "        /* Needs to be in here for Safari polyfill so background images work as expected. */\n",
              "        background-size: auto;\n",
              "    }\n",
              "    .progress-bar-interrupted, .progress-bar-interrupted::-webkit-progress-bar {\n",
              "        background: #F44336;\n",
              "    }\n",
              "</style>\n"
            ]
          },
          "metadata": {}
        },
        {
          "output_type": "display_data",
          "data": {
            "text/plain": [
              "<IPython.core.display.HTML object>"
            ],
            "text/html": [
              "<table border=\"1\" class=\"dataframe\">\n",
              "  <thead>\n",
              "    <tr style=\"text-align: left;\">\n",
              "      <th>epoch</th>\n",
              "      <th>train_loss</th>\n",
              "      <th>valid_loss</th>\n",
              "      <th>accuracy</th>\n",
              "      <th>f1_score</th>\n",
              "      <th>recall_score</th>\n",
              "      <th>precision_score</th>\n",
              "      <th>time</th>\n",
              "    </tr>\n",
              "  </thead>\n",
              "  <tbody>\n",
              "    <tr>\n",
              "      <td>0</td>\n",
              "      <td>0.548550</td>\n",
              "      <td>0.495180</td>\n",
              "      <td>0.864399</td>\n",
              "      <td>0.219650</td>\n",
              "      <td>0.963034</td>\n",
              "      <td>0.123961</td>\n",
              "      <td>00:09</td>\n",
              "    </tr>\n",
              "    <tr>\n",
              "      <td>1</td>\n",
              "      <td>0.351264</td>\n",
              "      <td>0.331934</td>\n",
              "      <td>0.988017</td>\n",
              "      <td>0.658886</td>\n",
              "      <td>0.584000</td>\n",
              "      <td>0.755801</td>\n",
              "      <td>00:09</td>\n",
              "    </tr>\n",
              "    <tr>\n",
              "      <td>2</td>\n",
              "      <td>0.325461</td>\n",
              "      <td>0.324578</td>\n",
              "      <td>0.989116</td>\n",
              "      <td>0.671072</td>\n",
              "      <td>0.560276</td>\n",
              "      <td>0.836491</td>\n",
              "      <td>00:09</td>\n",
              "    </tr>\n",
              "    <tr>\n",
              "      <td>3</td>\n",
              "      <td>0.324578</td>\n",
              "      <td>0.324157</td>\n",
              "      <td>0.988925</td>\n",
              "      <td>0.687827</td>\n",
              "      <td>0.615724</td>\n",
              "      <td>0.779058</td>\n",
              "      <td>00:09</td>\n",
              "    </tr>\n",
              "    <tr>\n",
              "      <td>4</td>\n",
              "      <td>0.324294</td>\n",
              "      <td>0.323696</td>\n",
              "      <td>0.989482</td>\n",
              "      <td>0.666898</td>\n",
              "      <td>0.531310</td>\n",
              "      <td>0.895397</td>\n",
              "      <td>00:09</td>\n",
              "    </tr>\n",
              "    <tr>\n",
              "      <td>5</td>\n",
              "      <td>0.324194</td>\n",
              "      <td>0.323546</td>\n",
              "      <td>0.989438</td>\n",
              "      <td>0.670532</td>\n",
              "      <td>0.542345</td>\n",
              "      <td>0.878071</td>\n",
              "      <td>00:09</td>\n",
              "    </tr>\n",
              "    <tr>\n",
              "      <td>6</td>\n",
              "      <td>0.323496</td>\n",
              "      <td>0.323685</td>\n",
              "      <td>0.989362</td>\n",
              "      <td>0.664367</td>\n",
              "      <td>0.531310</td>\n",
              "      <td>0.886332</td>\n",
              "      <td>00:09</td>\n",
              "    </tr>\n",
              "    <tr>\n",
              "      <td>7</td>\n",
              "      <td>0.323496</td>\n",
              "      <td>0.323478</td>\n",
              "      <td>0.989548</td>\n",
              "      <td>0.681546</td>\n",
              "      <td>0.564414</td>\n",
              "      <td>0.860025</td>\n",
              "      <td>00:09</td>\n",
              "    </tr>\n",
              "    <tr>\n",
              "      <td>8</td>\n",
              "      <td>0.323602</td>\n",
              "      <td>0.323410</td>\n",
              "      <td>0.989581</td>\n",
              "      <td>0.681697</td>\n",
              "      <td>0.563034</td>\n",
              "      <td>0.863733</td>\n",
              "      <td>00:09</td>\n",
              "    </tr>\n",
              "    <tr>\n",
              "      <td>9</td>\n",
              "      <td>0.323645</td>\n",
              "      <td>0.323497</td>\n",
              "      <td>0.989619</td>\n",
              "      <td>0.674773</td>\n",
              "      <td>0.543448</td>\n",
              "      <td>0.889792</td>\n",
              "      <td>00:08</td>\n",
              "    </tr>\n",
              "  </tbody>\n",
              "</table>"
            ]
          },
          "metadata": {}
        }
      ]
    },
    {
      "cell_type": "code",
      "source": [
        "X_train, y_train = to.train.xs, to.train.ys.values.ravel()\n",
        "x_val_nn, v_val_nn = to.valid.xs, to.valid.ys.values.ravel()\n",
        "\n",
        "test_dl = learn.dls.test_dl(df_train_valid[:indexes[-1]+1])\n",
        "predicted_df_nn, targs =  learn.get_preds(dl = test_dl)"
      ],
      "metadata": {
        "colab": {
          "base_uri": "https://localhost:8080/",
          "height": 16
        },
        "id": "BIEw3UvHFZgA",
        "outputId": "62a81978-6d0e-4772-d01b-5a05b484d646"
      },
      "execution_count": null,
      "outputs": [
        {
          "output_type": "display_data",
          "data": {
            "text/plain": [
              "<IPython.core.display.HTML object>"
            ],
            "text/html": [
              "\n",
              "<style>\n",
              "    /* Turns off some styling */\n",
              "    progress {\n",
              "        /* gets rid of default border in Firefox and Opera. */\n",
              "        border: none;\n",
              "        /* Needs to be in here for Safari polyfill so background images work as expected. */\n",
              "        background-size: auto;\n",
              "    }\n",
              "    .progress-bar-interrupted, .progress-bar-interrupted::-webkit-progress-bar {\n",
              "        background: #F44336;\n",
              "    }\n",
              "</style>\n"
            ]
          },
          "metadata": {}
        },
        {
          "output_type": "display_data",
          "data": {
            "text/plain": [
              "<IPython.core.display.HTML object>"
            ],
            "text/html": [
              ""
            ]
          },
          "metadata": {}
        }
      ]
    },
    {
      "cell_type": "code",
      "source": [
        "predicted = get_predictions_int(predicted_df_nn)\n",
        "plot_confusion_matrix(v_val_nn, predicted)"
      ],
      "metadata": {
        "colab": {
          "base_uri": "https://localhost:8080/",
          "height": 284
        },
        "id": "2w3u7EKVF3dm",
        "outputId": "58883982-1c99-4034-cea8-3d0242de13cf"
      },
      "execution_count": null,
      "outputs": [
        {
          "output_type": "display_data",
          "data": {
            "text/plain": [
              "<Figure size 432x288 with 2 Axes>"
            ],
            "image/png": "[encoded data removed]"
          },
          "metadata": {
            "needs_background": "light"
          }
        }
      ]
    },
    {
      "cell_type": "markdown",
      "source": [
        "Oversampling the majority class (background) gave slightly higher accuracy then the base NN learner, but still not as good as the baseline random forest model. "
      ],
      "metadata": {
        "id": "PHijpNU8P2xh"
      }
    },
    {
      "cell_type": "code",
      "source": [
        "del to\n",
        "del learn\n",
        "del dls\n",
        "gc.collect()"
      ],
      "metadata": {
        "colab": {
          "base_uri": "https://localhost:8080/"
        },
        "id": "OsSzZ356GEGf",
        "outputId": "0d92299c-2d30-4e8b-a47e-d3c87e65a1ad"
      },
      "execution_count": null,
      "outputs": [
        {
          "output_type": "execute_result",
          "data": {
            "text/plain": [
              "3860"
            ]
          },
          "metadata": {},
          "execution_count": 53
        }
      ]
    },
    {
      "cell_type": "markdown",
      "source": [
        "### Undersampling\n",
        "\n",
        "We also tried different strategies for undersampling"
      ],
      "metadata": {
        "id": "D185am1RGMtm"
      }
    },
    {
      "cell_type": "code",
      "source": [
        "sampling_strategies = [\"not minority\", \"not majority\", \"all\"]\n",
        "\n",
        "valid = df_train_valid[:indexes[-1]].copy()\n",
        "x = df_train_valid[indexes[-1]:].copy()\n",
        "y = x[\"data_type\"]\n",
        "x.drop([\"data_type\"], axis=1)\n",
        "\n",
        "def undersample_data(sampling_strategy, x, y):\n",
        "  undersample = RandomUnderSampler(sampling_strategy=sampling_strategy, random_state=fixed_seed)\n",
        "  X_over, y_over = undersample.fit_resample(x, y)\n",
        "  X_over[\"data_type\"] = y_over\n",
        "  df_train_valid_undersampled = X_over\n",
        "  df_train_valid_undersampled = pd.concat([valid, df_train_valid_undersampled], ignore_index=True)\n",
        "  return df_train_valid_undersampled\n",
        "\n",
        "for sampling_strategy in sampling_strategies:\n",
        "  df_train_valid_undersampled = undersample_data(sampling_strategy, x, y)\n",
        "  to = make_tabular_pandas(df_train_valid_undersampled, indexes)\n",
        "  dls = make_dataloader(to, fixed_seed)\n",
        "  learn = tabular_learner(dls, metrics=[accuracy, f1, recall, precision], y_range=[0,1])\n",
        "  learn.fit_one_cycle(5)\n",
        "\n",
        "  del to\n",
        "  del learn\n",
        "  del dls\n",
        "  gc.collect()"
      ],
      "metadata": {
        "colab": {
          "base_uri": "https://localhost:8080/",
          "height": 584
        },
        "id": "9Z-2E2c3GOk5",
        "outputId": "864567db-34b4-4214-8f29-fb8ed0dd20d6"
      },
      "execution_count": null,
      "outputs": [
        {
          "output_type": "display_data",
          "data": {
            "text/plain": [
              "<IPython.core.display.HTML object>"
            ],
            "text/html": [
              "\n",
              "<style>\n",
              "    /* Turns off some styling */\n",
              "    progress {\n",
              "        /* gets rid of default border in Firefox and Opera. */\n",
              "        border: none;\n",
              "        /* Needs to be in here for Safari polyfill so background images work as expected. */\n",
              "        background-size: auto;\n",
              "    }\n",
              "    .progress-bar-interrupted, .progress-bar-interrupted::-webkit-progress-bar {\n",
              "        background: #F44336;\n",
              "    }\n",
              "</style>\n"
            ]
          },
          "metadata": {}
        },
        {
          "output_type": "display_data",
          "data": {
            "text/plain": [
              "<IPython.core.display.HTML object>"
            ],
            "text/html": [
              "<table border=\"1\" class=\"dataframe\">\n",
              "  <thead>\n",
              "    <tr style=\"text-align: left;\">\n",
              "      <th>epoch</th>\n",
              "      <th>train_loss</th>\n",
              "      <th>valid_loss</th>\n",
              "      <th>accuracy</th>\n",
              "      <th>f1_score</th>\n",
              "      <th>recall_score</th>\n",
              "      <th>precision_score</th>\n",
              "      <th>time</th>\n",
              "    </tr>\n",
              "  </thead>\n",
              "  <tbody>\n",
              "    <tr>\n",
              "      <td>0</td>\n",
              "      <td>0.625234</td>\n",
              "      <td>0.670122</td>\n",
              "      <td>0.889962</td>\n",
              "      <td>0.204607</td>\n",
              "      <td>0.714207</td>\n",
              "      <td>0.119408</td>\n",
              "      <td>00:02</td>\n",
              "    </tr>\n",
              "    <tr>\n",
              "      <td>1</td>\n",
              "      <td>0.545840</td>\n",
              "      <td>0.590058</td>\n",
              "      <td>0.856708</td>\n",
              "      <td>0.205745</td>\n",
              "      <td>0.936552</td>\n",
              "      <td>0.115567</td>\n",
              "      <td>00:02</td>\n",
              "    </tr>\n",
              "    <tr>\n",
              "      <td>2</td>\n",
              "      <td>0.498476</td>\n",
              "      <td>0.513834</td>\n",
              "      <td>0.851159</td>\n",
              "      <td>0.203772</td>\n",
              "      <td>0.961103</td>\n",
              "      <td>0.113968</td>\n",
              "      <td>00:02</td>\n",
              "    </tr>\n",
              "    <tr>\n",
              "      <td>3</td>\n",
              "      <td>0.470595</td>\n",
              "      <td>0.466868</td>\n",
              "      <td>0.870806</td>\n",
              "      <td>0.227654</td>\n",
              "      <td>0.960828</td>\n",
              "      <td>0.129124</td>\n",
              "      <td>00:02</td>\n",
              "    </tr>\n",
              "    <tr>\n",
              "      <td>4</td>\n",
              "      <td>0.453146</td>\n",
              "      <td>0.439068</td>\n",
              "      <td>0.888103</td>\n",
              "      <td>0.252165</td>\n",
              "      <td>0.952000</td>\n",
              "      <td>0.145330</td>\n",
              "      <td>00:02</td>\n",
              "    </tr>\n",
              "  </tbody>\n",
              "</table>"
            ]
          },
          "metadata": {}
        },
        {
          "output_type": "display_data",
          "data": {
            "text/plain": [
              "<IPython.core.display.HTML object>"
            ],
            "text/html": [
              "\n",
              "<style>\n",
              "    /* Turns off some styling */\n",
              "    progress {\n",
              "        /* gets rid of default border in Firefox and Opera. */\n",
              "        border: none;\n",
              "        /* Needs to be in here for Safari polyfill so background images work as expected. */\n",
              "        background-size: auto;\n",
              "    }\n",
              "    .progress-bar-interrupted, .progress-bar-interrupted::-webkit-progress-bar {\n",
              "        background: #F44336;\n",
              "    }\n",
              "</style>\n"
            ]
          },
          "metadata": {}
        },
        {
          "output_type": "display_data",
          "data": {
            "text/plain": [
              "<IPython.core.display.HTML object>"
            ],
            "text/html": [
              "<table border=\"1\" class=\"dataframe\">\n",
              "  <thead>\n",
              "    <tr style=\"text-align: left;\">\n",
              "      <th>epoch</th>\n",
              "      <th>train_loss</th>\n",
              "      <th>valid_loss</th>\n",
              "      <th>accuracy</th>\n",
              "      <th>f1_score</th>\n",
              "      <th>recall_score</th>\n",
              "      <th>precision_score</th>\n",
              "      <th>time</th>\n",
              "    </tr>\n",
              "  </thead>\n",
              "  <tbody>\n",
              "    <tr>\n",
              "      <td>0</td>\n",
              "      <td>0.452140</td>\n",
              "      <td>0.385267</td>\n",
              "      <td>0.947575</td>\n",
              "      <td>0.381210</td>\n",
              "      <td>0.814897</td>\n",
              "      <td>0.248800</td>\n",
              "      <td>00:09</td>\n",
              "    </tr>\n",
              "    <tr>\n",
              "      <td>1</td>\n",
              "      <td>0.329201</td>\n",
              "      <td>0.325812</td>\n",
              "      <td>0.988963</td>\n",
              "      <td>0.686539</td>\n",
              "      <td>0.609931</td>\n",
              "      <td>0.785156</td>\n",
              "      <td>00:09</td>\n",
              "    </tr>\n",
              "    <tr>\n",
              "      <td>2</td>\n",
              "      <td>0.324552</td>\n",
              "      <td>0.324355</td>\n",
              "      <td>0.989067</td>\n",
              "      <td>0.644128</td>\n",
              "      <td>0.499310</td>\n",
              "      <td>0.907268</td>\n",
              "      <td>00:08</td>\n",
              "    </tr>\n",
              "    <tr>\n",
              "      <td>3</td>\n",
              "      <td>0.323787</td>\n",
              "      <td>0.323674</td>\n",
              "      <td>0.989537</td>\n",
              "      <td>0.669544</td>\n",
              "      <td>0.534897</td>\n",
              "      <td>0.894785</td>\n",
              "      <td>00:09</td>\n",
              "    </tr>\n",
              "    <tr>\n",
              "      <td>4</td>\n",
              "      <td>0.324200</td>\n",
              "      <td>0.323661</td>\n",
              "      <td>0.989449</td>\n",
              "      <td>0.663294</td>\n",
              "      <td>0.524414</td>\n",
              "      <td>0.902231</td>\n",
              "      <td>00:09</td>\n",
              "    </tr>\n",
              "  </tbody>\n",
              "</table>"
            ]
          },
          "metadata": {}
        },
        {
          "output_type": "display_data",
          "data": {
            "text/plain": [
              "<IPython.core.display.HTML object>"
            ],
            "text/html": [
              "\n",
              "<style>\n",
              "    /* Turns off some styling */\n",
              "    progress {\n",
              "        /* gets rid of default border in Firefox and Opera. */\n",
              "        border: none;\n",
              "        /* Needs to be in here for Safari polyfill so background images work as expected. */\n",
              "        background-size: auto;\n",
              "    }\n",
              "    .progress-bar-interrupted, .progress-bar-interrupted::-webkit-progress-bar {\n",
              "        background: #F44336;\n",
              "    }\n",
              "</style>\n"
            ]
          },
          "metadata": {}
        },
        {
          "output_type": "display_data",
          "data": {
            "text/plain": [
              "<IPython.core.display.HTML object>"
            ],
            "text/html": [
              "<table border=\"1\" class=\"dataframe\">\n",
              "  <thead>\n",
              "    <tr style=\"text-align: left;\">\n",
              "      <th>epoch</th>\n",
              "      <th>train_loss</th>\n",
              "      <th>valid_loss</th>\n",
              "      <th>accuracy</th>\n",
              "      <th>f1_score</th>\n",
              "      <th>recall_score</th>\n",
              "      <th>precision_score</th>\n",
              "      <th>time</th>\n",
              "    </tr>\n",
              "  </thead>\n",
              "  <tbody>\n",
              "    <tr>\n",
              "      <td>0</td>\n",
              "      <td>0.625664</td>\n",
              "      <td>0.669820</td>\n",
              "      <td>0.893482</td>\n",
              "      <td>0.208152</td>\n",
              "      <td>0.706483</td>\n",
              "      <td>0.122057</td>\n",
              "      <td>00:02</td>\n",
              "    </tr>\n",
              "    <tr>\n",
              "      <td>1</td>\n",
              "      <td>0.546013</td>\n",
              "      <td>0.589575</td>\n",
              "      <td>0.859004</td>\n",
              "      <td>0.208300</td>\n",
              "      <td>0.936000</td>\n",
              "      <td>0.117190</td>\n",
              "      <td>00:02</td>\n",
              "    </tr>\n",
              "    <tr>\n",
              "      <td>2</td>\n",
              "      <td>0.498379</td>\n",
              "      <td>0.514177</td>\n",
              "      <td>0.851372</td>\n",
              "      <td>0.203912</td>\n",
              "      <td>0.960552</td>\n",
              "      <td>0.114063</td>\n",
              "      <td>00:02</td>\n",
              "    </tr>\n",
              "    <tr>\n",
              "      <td>3</td>\n",
              "      <td>0.470531</td>\n",
              "      <td>0.467242</td>\n",
              "      <td>0.870555</td>\n",
              "      <td>0.227262</td>\n",
              "      <td>0.960552</td>\n",
              "      <td>0.128877</td>\n",
              "      <td>00:02</td>\n",
              "    </tr>\n",
              "    <tr>\n",
              "      <td>4</td>\n",
              "      <td>0.453024</td>\n",
              "      <td>0.438603</td>\n",
              "      <td>0.888628</td>\n",
              "      <td>0.252778</td>\n",
              "      <td>0.950621</td>\n",
              "      <td>0.145770</td>\n",
              "      <td>00:02</td>\n",
              "    </tr>\n",
              "  </tbody>\n",
              "</table>"
            ]
          },
          "metadata": {}
        }
      ]
    },
    {
      "cell_type": "markdown",
      "source": [
        "Best strategy for undersampling was undersampling \"not majority\", that means undersampling the signal class. Results are similar to oversampling the background class. We can look at the confusion matrix for this as well, after training for a few more cycles."
      ],
      "metadata": {
        "id": "ffJL2xnKPfki"
      }
    },
    {
      "cell_type": "code",
      "source": [
        "df_train_valid_undersampled = undersample_data(\"not majority\", x, y)\n",
        "to = make_tabular_pandas(df_train_valid_undersampled, indexes)\n",
        "dls = make_dataloader(to, fixed_seed)\n",
        "learn = tabular_learner(dls, metrics=[accuracy, f1, recall, precision], y_range=[0,1])\n",
        "learn.fit_one_cycle(10)"
      ],
      "metadata": {
        "colab": {
          "base_uri": "https://localhost:8080/",
          "height": 363
        },
        "id": "_XjiJz7SG0uP",
        "outputId": "b4277a9d-0d30-4606-acbb-24e48499487e"
      },
      "execution_count": null,
      "outputs": [
        {
          "output_type": "display_data",
          "data": {
            "text/plain": [
              "<IPython.core.display.HTML object>"
            ],
            "text/html": [
              "\n",
              "<style>\n",
              "    /* Turns off some styling */\n",
              "    progress {\n",
              "        /* gets rid of default border in Firefox and Opera. */\n",
              "        border: none;\n",
              "        /* Needs to be in here for Safari polyfill so background images work as expected. */\n",
              "        background-size: auto;\n",
              "    }\n",
              "    .progress-bar-interrupted, .progress-bar-interrupted::-webkit-progress-bar {\n",
              "        background: #F44336;\n",
              "    }\n",
              "</style>\n"
            ]
          },
          "metadata": {}
        },
        {
          "output_type": "display_data",
          "data": {
            "text/plain": [
              "<IPython.core.display.HTML object>"
            ],
            "text/html": [
              "<table border=\"1\" class=\"dataframe\">\n",
              "  <thead>\n",
              "    <tr style=\"text-align: left;\">\n",
              "      <th>epoch</th>\n",
              "      <th>train_loss</th>\n",
              "      <th>valid_loss</th>\n",
              "      <th>accuracy</th>\n",
              "      <th>f1_score</th>\n",
              "      <th>recall_score</th>\n",
              "      <th>precision_score</th>\n",
              "      <th>time</th>\n",
              "    </tr>\n",
              "  </thead>\n",
              "  <tbody>\n",
              "    <tr>\n",
              "      <td>0</td>\n",
              "      <td>0.547810</td>\n",
              "      <td>0.497284</td>\n",
              "      <td>0.862552</td>\n",
              "      <td>0.217339</td>\n",
              "      <td>0.963034</td>\n",
              "      <td>0.122491</td>\n",
              "      <td>00:09</td>\n",
              "    </tr>\n",
              "    <tr>\n",
              "      <td>1</td>\n",
              "      <td>0.352088</td>\n",
              "      <td>0.333854</td>\n",
              "      <td>0.986962</td>\n",
              "      <td>0.657377</td>\n",
              "      <td>0.631172</td>\n",
              "      <td>0.685851</td>\n",
              "      <td>00:09</td>\n",
              "    </tr>\n",
              "    <tr>\n",
              "      <td>2</td>\n",
              "      <td>0.325696</td>\n",
              "      <td>0.324587</td>\n",
              "      <td>0.989154</td>\n",
              "      <td>0.670869</td>\n",
              "      <td>0.557793</td>\n",
              "      <td>0.841448</td>\n",
              "      <td>00:09</td>\n",
              "    </tr>\n",
              "    <tr>\n",
              "      <td>3</td>\n",
              "      <td>0.324187</td>\n",
              "      <td>0.324296</td>\n",
              "      <td>0.988864</td>\n",
              "      <td>0.630107</td>\n",
              "      <td>0.478621</td>\n",
              "      <td>0.921892</td>\n",
              "      <td>00:09</td>\n",
              "    </tr>\n",
              "    <tr>\n",
              "      <td>4</td>\n",
              "      <td>0.324566</td>\n",
              "      <td>0.324018</td>\n",
              "      <td>0.989083</td>\n",
              "      <td>0.647485</td>\n",
              "      <td>0.505931</td>\n",
              "      <td>0.899020</td>\n",
              "      <td>00:09</td>\n",
              "    </tr>\n",
              "    <tr>\n",
              "      <td>5</td>\n",
              "      <td>0.324155</td>\n",
              "      <td>0.323495</td>\n",
              "      <td>0.989624</td>\n",
              "      <td>0.684088</td>\n",
              "      <td>0.566897</td>\n",
              "      <td>0.862358</td>\n",
              "      <td>00:09</td>\n",
              "    </tr>\n",
              "    <tr>\n",
              "      <td>6</td>\n",
              "      <td>0.323919</td>\n",
              "      <td>0.323599</td>\n",
              "      <td>0.989471</td>\n",
              "      <td>0.668160</td>\n",
              "      <td>0.534897</td>\n",
              "      <td>0.889858</td>\n",
              "      <td>00:09</td>\n",
              "    </tr>\n",
              "    <tr>\n",
              "      <td>7</td>\n",
              "      <td>0.323644</td>\n",
              "      <td>0.323487</td>\n",
              "      <td>0.989564</td>\n",
              "      <td>0.678132</td>\n",
              "      <td>0.554759</td>\n",
              "      <td>0.872073</td>\n",
              "      <td>00:09</td>\n",
              "    </tr>\n",
              "    <tr>\n",
              "      <td>8</td>\n",
              "      <td>0.323594</td>\n",
              "      <td>0.323453</td>\n",
              "      <td>0.989668</td>\n",
              "      <td>0.680527</td>\n",
              "      <td>0.555310</td>\n",
              "      <td>0.878656</td>\n",
              "      <td>00:09</td>\n",
              "    </tr>\n",
              "    <tr>\n",
              "      <td>9</td>\n",
              "      <td>0.323221</td>\n",
              "      <td>0.323454</td>\n",
              "      <td>0.989613</td>\n",
              "      <td>0.676761</td>\n",
              "      <td>0.548690</td>\n",
              "      <td>0.882823</td>\n",
              "      <td>00:10</td>\n",
              "    </tr>\n",
              "  </tbody>\n",
              "</table>"
            ]
          },
          "metadata": {}
        }
      ]
    },
    {
      "cell_type": "code",
      "source": [
        "X_train, y_train = to.train.xs, to.train.ys.values.ravel()\n",
        "x_val_nn, v_val_nn = to.valid.xs, to.valid.ys.values.ravel()\n",
        "\n",
        "test_dl = learn.dls.test_dl(df_train_valid[:indexes[-1]+1])\n",
        "predicted_df_nn, targs =  learn.get_preds(dl = test_dl)"
      ],
      "metadata": {
        "colab": {
          "base_uri": "https://localhost:8080/",
          "height": 16
        },
        "id": "I8cdc5wSG5MB",
        "outputId": "a990bf84-b15a-4983-9d03-a26e17b0ab3a"
      },
      "execution_count": null,
      "outputs": [
        {
          "output_type": "display_data",
          "data": {
            "text/plain": [
              "<IPython.core.display.HTML object>"
            ],
            "text/html": [
              "\n",
              "<style>\n",
              "    /* Turns off some styling */\n",
              "    progress {\n",
              "        /* gets rid of default border in Firefox and Opera. */\n",
              "        border: none;\n",
              "        /* Needs to be in here for Safari polyfill so background images work as expected. */\n",
              "        background-size: auto;\n",
              "    }\n",
              "    .progress-bar-interrupted, .progress-bar-interrupted::-webkit-progress-bar {\n",
              "        background: #F44336;\n",
              "    }\n",
              "</style>\n"
            ]
          },
          "metadata": {}
        },
        {
          "output_type": "display_data",
          "data": {
            "text/plain": [
              "<IPython.core.display.HTML object>"
            ],
            "text/html": [
              ""
            ]
          },
          "metadata": {}
        }
      ]
    },
    {
      "cell_type": "code",
      "source": [
        "predicted = get_predictions_int(predicted_df_nn)\n",
        "plot_confusion_matrix(v_val_nn, predicted)"
      ],
      "metadata": {
        "colab": {
          "base_uri": "https://localhost:8080/",
          "height": 284
        },
        "id": "5Wm_32l_G7Od",
        "outputId": "a8687294-ab40-4650-fd47-5feaf0df1de1"
      },
      "execution_count": null,
      "outputs": [
        {
          "output_type": "display_data",
          "data": {
            "text/plain": [
              "<Figure size 432x288 with 2 Axes>"
            ],
            "image/png": "[encoded data removed]"
          },
          "metadata": {
            "needs_background": "light"
          }
        }
      ]
    },
    {
      "cell_type": "code",
      "source": [
        "del to\n",
        "del learn\n",
        "del dls\n",
        "gc.collect()"
      ],
      "metadata": {
        "colab": {
          "base_uri": "https://localhost:8080/"
        },
        "id": "PeRfR98cHbkP",
        "outputId": "95135cba-e20e-4047-878e-25ffca85aa40"
      },
      "execution_count": null,
      "outputs": [
        {
          "output_type": "execute_result",
          "data": {
            "text/plain": [
              "3857"
            ]
          },
          "metadata": {},
          "execution_count": 58
        }
      ]
    },
    {
      "cell_type": "markdown",
      "source": [
        "### Using different loss functions\n",
        "\n",
        "We cna also see how using differen loss functions will affect the accuracy. Here we're trying cross entropy loss, focal loss, and label smoothing cross enthropy. "
      ],
      "metadata": {
        "id": "SQ6R0L6Kylti"
      }
    },
    {
      "cell_type": "code",
      "source": [
        "loss_functions= [CrossEntropyLossFlat(), FocalLossFlat(), LabelSmoothingCrossEntropyFlat()]"
      ],
      "metadata": {
        "id": "bLLrFYdLAqTs"
      },
      "execution_count": null,
      "outputs": []
    },
    {
      "cell_type": "code",
      "source": [
        "for loss_func in loss_functions:\n",
        "  to = make_tabular_pandas(df_train_valid, indexes)\n",
        "  dls = make_dataloader(to, fixed_seed) \n",
        "  learn = tabular_learner(dls, loss_func=loss_func, metrics=[accuracy, f1, recall, precision], y_range=[0,1], cbs=ShowGraphCallback())\n",
        "  print(\"Training using\", str(loss_func))\n",
        "  learn.fit_one_cycle(5)\n",
        "  del to\n",
        "  del learn\n",
        "  del dls\n",
        "  gc.collect()"
      ],
      "metadata": {
        "colab": {
          "base_uri": "https://localhost:8080/",
          "height": 1000
        },
        "id": "NpL0_ulQBJbN",
        "outputId": "91c01573-91df-404a-9c63-809c0d18d921"
      },
      "execution_count": null,
      "outputs": [
        {
          "output_type": "stream",
          "name": "stdout",
          "text": [
            "Training using FlattenedLoss of CrossEntropyLoss()\n"
          ]
        },
        {
          "output_type": "display_data",
          "data": {
            "text/plain": [
              "<IPython.core.display.HTML object>"
            ],
            "text/html": [
              "\n",
              "<style>\n",
              "    /* Turns off some styling */\n",
              "    progress {\n",
              "        /* gets rid of default border in Firefox and Opera. */\n",
              "        border: none;\n",
              "        /* Needs to be in here for Safari polyfill so background images work as expected. */\n",
              "        background-size: auto;\n",
              "    }\n",
              "    .progress-bar-interrupted, .progress-bar-interrupted::-webkit-progress-bar {\n",
              "        background: #F44336;\n",
              "    }\n",
              "</style>\n"
            ]
          },
          "metadata": {}
        },
        {
          "output_type": "display_data",
          "data": {
            "text/plain": [
              "<IPython.core.display.HTML object>"
            ],
            "text/html": [
              "<table border=\"1\" class=\"dataframe\">\n",
              "  <thead>\n",
              "    <tr style=\"text-align: left;\">\n",
              "      <th>epoch</th>\n",
              "      <th>train_loss</th>\n",
              "      <th>valid_loss</th>\n",
              "      <th>accuracy</th>\n",
              "      <th>f1_score</th>\n",
              "      <th>recall_score</th>\n",
              "      <th>precision_score</th>\n",
              "      <th>time</th>\n",
              "    </tr>\n",
              "  </thead>\n",
              "  <tbody>\n",
              "    <tr>\n",
              "      <td>0</td>\n",
              "      <td>0.452113</td>\n",
              "      <td>0.382528</td>\n",
              "      <td>0.955135</td>\n",
              "      <td>0.409611</td>\n",
              "      <td>0.785379</td>\n",
              "      <td>0.277053</td>\n",
              "      <td>00:09</td>\n",
              "    </tr>\n",
              "    <tr>\n",
              "      <td>1</td>\n",
              "      <td>0.329096</td>\n",
              "      <td>0.326185</td>\n",
              "      <td>0.989007</td>\n",
              "      <td>0.668425</td>\n",
              "      <td>0.559172</td>\n",
              "      <td>0.830738</td>\n",
              "      <td>00:09</td>\n",
              "    </tr>\n",
              "    <tr>\n",
              "      <td>2</td>\n",
              "      <td>0.324514</td>\n",
              "      <td>0.324126</td>\n",
              "      <td>0.989411</td>\n",
              "      <td>0.669736</td>\n",
              "      <td>0.541793</td>\n",
              "      <td>0.876786</td>\n",
              "      <td>00:09</td>\n",
              "    </tr>\n",
              "    <tr>\n",
              "      <td>3</td>\n",
              "      <td>0.324166</td>\n",
              "      <td>0.323603</td>\n",
              "      <td>0.989542</td>\n",
              "      <td>0.678541</td>\n",
              "      <td>0.556966</td>\n",
              "      <td>0.868014</td>\n",
              "      <td>00:09</td>\n",
              "    </tr>\n",
              "    <tr>\n",
              "      <td>4</td>\n",
              "      <td>0.323984</td>\n",
              "      <td>0.323588</td>\n",
              "      <td>0.989542</td>\n",
              "      <td>0.671475</td>\n",
              "      <td>0.539310</td>\n",
              "      <td>0.889445</td>\n",
              "      <td>00:09</td>\n",
              "    </tr>\n",
              "  </tbody>\n",
              "</table>"
            ]
          },
          "metadata": {}
        },
        {
          "output_type": "display_data",
          "data": {
            "text/plain": [
              "<Figure size 432x288 with 1 Axes>"
            ],
            "image/png": "[encoded data removed]"
          },
          "metadata": {}
        },
        {
          "output_type": "stream",
          "name": "stdout",
          "text": [
            "Training using FlattenedLoss of FocalLoss()\n"
          ]
        },
        {
          "output_type": "display_data",
          "data": {
            "text/plain": [
              "<IPython.core.display.HTML object>"
            ],
            "text/html": [
              "\n",
              "<style>\n",
              "    /* Turns off some styling */\n",
              "    progress {\n",
              "        /* gets rid of default border in Firefox and Opera. */\n",
              "        border: none;\n",
              "        /* Needs to be in here for Safari polyfill so background images work as expected. */\n",
              "        background-size: auto;\n",
              "    }\n",
              "    .progress-bar-interrupted, .progress-bar-interrupted::-webkit-progress-bar {\n",
              "        background: #F44336;\n",
              "    }\n",
              "</style>\n"
            ]
          },
          "metadata": {}
        },
        {
          "output_type": "display_data",
          "data": {
            "text/plain": [
              "<IPython.core.display.HTML object>"
            ],
            "text/html": [
              "<table border=\"1\" class=\"dataframe\">\n",
              "  <thead>\n",
              "    <tr style=\"text-align: left;\">\n",
              "      <th>epoch</th>\n",
              "      <th>train_loss</th>\n",
              "      <th>valid_loss</th>\n",
              "      <th>accuracy</th>\n",
              "      <th>f1_score</th>\n",
              "      <th>recall_score</th>\n",
              "      <th>precision_score</th>\n",
              "      <th>time</th>\n",
              "    </tr>\n",
              "  </thead>\n",
              "  <tbody>\n",
              "    <tr>\n",
              "      <td>0</td>\n",
              "      <td>0.081930</td>\n",
              "      <td>0.055370</td>\n",
              "      <td>0.939369</td>\n",
              "      <td>0.350682</td>\n",
              "      <td>0.826207</td>\n",
              "      <td>0.222577</td>\n",
              "      <td>00:09</td>\n",
              "    </tr>\n",
              "    <tr>\n",
              "      <td>1</td>\n",
              "      <td>0.031667</td>\n",
              "      <td>0.029913</td>\n",
              "      <td>0.989242</td>\n",
              "      <td>0.663244</td>\n",
              "      <td>0.534621</td>\n",
              "      <td>0.873366</td>\n",
              "      <td>00:09</td>\n",
              "    </tr>\n",
              "    <tr>\n",
              "      <td>2</td>\n",
              "      <td>0.029208</td>\n",
              "      <td>0.029062</td>\n",
              "      <td>0.989362</td>\n",
              "      <td>0.666895</td>\n",
              "      <td>0.537379</td>\n",
              "      <td>0.878665</td>\n",
              "      <td>00:09</td>\n",
              "    </tr>\n",
              "    <tr>\n",
              "      <td>3</td>\n",
              "      <td>0.028999</td>\n",
              "      <td>0.028797</td>\n",
              "      <td>0.989553</td>\n",
              "      <td>0.677468</td>\n",
              "      <td>0.553655</td>\n",
              "      <td>0.872609</td>\n",
              "      <td>00:09</td>\n",
              "    </tr>\n",
              "    <tr>\n",
              "      <td>4</td>\n",
              "      <td>0.028851</td>\n",
              "      <td>0.028796</td>\n",
              "      <td>0.989570</td>\n",
              "      <td>0.673623</td>\n",
              "      <td>0.543172</td>\n",
              "      <td>0.886538</td>\n",
              "      <td>00:09</td>\n",
              "    </tr>\n",
              "  </tbody>\n",
              "</table>"
            ]
          },
          "metadata": {}
        },
        {
          "output_type": "display_data",
          "data": {
            "text/plain": [
              "<Figure size 432x288 with 1 Axes>"
            ],
            "image/png": "[encoded data removed]"
          },
          "metadata": {}
        },
        {
          "output_type": "stream",
          "name": "stdout",
          "text": [
            "Training using FlattenedLoss of LabelSmoothingCrossEntropy()\n"
          ]
        },
        {
          "output_type": "display_data",
          "data": {
            "text/plain": [
              "<IPython.core.display.HTML object>"
            ],
            "text/html": [
              "\n",
              "<style>\n",
              "    /* Turns off some styling */\n",
              "    progress {\n",
              "        /* gets rid of default border in Firefox and Opera. */\n",
              "        border: none;\n",
              "        /* Needs to be in here for Safari polyfill so background images work as expected. */\n",
              "        background-size: auto;\n",
              "    }\n",
              "    .progress-bar-interrupted, .progress-bar-interrupted::-webkit-progress-bar {\n",
              "        background: #F44336;\n",
              "    }\n",
              "</style>\n"
            ]
          },
          "metadata": {}
        },
        {
          "output_type": "display_data",
          "data": {
            "text/plain": [
              "<IPython.core.display.HTML object>"
            ],
            "text/html": [
              "<table border=\"1\" class=\"dataframe\">\n",
              "  <thead>\n",
              "    <tr style=\"text-align: left;\">\n",
              "      <th>epoch</th>\n",
              "      <th>train_loss</th>\n",
              "      <th>valid_loss</th>\n",
              "      <th>accuracy</th>\n",
              "      <th>f1_score</th>\n",
              "      <th>recall_score</th>\n",
              "      <th>precision_score</th>\n",
              "      <th>time</th>\n",
              "    </tr>\n",
              "  </thead>\n",
              "  <tbody>\n",
              "    <tr>\n",
              "      <td>0</td>\n",
              "      <td>0.484404</td>\n",
              "      <td>0.424997</td>\n",
              "      <td>0.950767</td>\n",
              "      <td>0.393208</td>\n",
              "      <td>0.804966</td>\n",
              "      <td>0.260141</td>\n",
              "      <td>00:09</td>\n",
              "    </tr>\n",
              "    <tr>\n",
              "      <td>1</td>\n",
              "      <td>0.377405</td>\n",
              "      <td>0.374549</td>\n",
              "      <td>0.988788</td>\n",
              "      <td>0.653020</td>\n",
              "      <td>0.532414</td>\n",
              "      <td>0.844269</td>\n",
              "      <td>00:09</td>\n",
              "    </tr>\n",
              "    <tr>\n",
              "      <td>2</td>\n",
              "      <td>0.373409</td>\n",
              "      <td>0.372966</td>\n",
              "      <td>0.989345</td>\n",
              "      <td>0.674570</td>\n",
              "      <td>0.557241</td>\n",
              "      <td>0.854484</td>\n",
              "      <td>00:09</td>\n",
              "    </tr>\n",
              "    <tr>\n",
              "      <td>3</td>\n",
              "      <td>0.372995</td>\n",
              "      <td>0.372520</td>\n",
              "      <td>0.989520</td>\n",
              "      <td>0.675360</td>\n",
              "      <td>0.550069</td>\n",
              "      <td>0.874561</td>\n",
              "      <td>00:09</td>\n",
              "    </tr>\n",
              "    <tr>\n",
              "      <td>4</td>\n",
              "      <td>0.372871</td>\n",
              "      <td>0.372582</td>\n",
              "      <td>0.989526</td>\n",
              "      <td>0.666435</td>\n",
              "      <td>0.528000</td>\n",
              "      <td>0.903256</td>\n",
              "      <td>00:09</td>\n",
              "    </tr>\n",
              "  </tbody>\n",
              "</table>"
            ]
          },
          "metadata": {}
        },
        {
          "output_type": "display_data",
          "data": {
            "text/plain": [
              "<Figure size 432x288 with 1 Axes>"
            ],
            "image/png": "[encoded data removed]"
          },
          "metadata": {}
        }
      ]
    },
    {
      "cell_type": "markdown",
      "source": [
        "## Best of all combo \n",
        "combining the best features of the above categories to see if we achieve a better result"
      ],
      "metadata": {
        "id": "vkf2h_pru48a"
      }
    },
    {
      "cell_type": "code",
      "source": [
        "df_train_valid_oversampled = oversample_data(\"not minority\", x, y)\n",
        "to = make_tabular_pandas(df_train_valid_oversampled, indexes)\n",
        "dls = make_dataloader(to, fixed_seed)\n",
        "learn = tabular_learner(dls, \n",
        "                        metrics=[accuracy, f1, recall, precision], \n",
        "                        loss_func=LabelSmoothingCrossEntropyFlat(), \n",
        "                        layers=[800, 1000, 1200], \n",
        "                        emb_szs=0.1, y_range=[0,1], \n",
        "                        cbs=ShowGraphCallback())"
      ],
      "metadata": {
        "id": "qdzgMZoGujzm"
      },
      "execution_count": null,
      "outputs": []
    },
    {
      "cell_type": "code",
      "source": [
        "learn.fit_one_cycle(5)"
      ],
      "metadata": {
        "colab": {
          "base_uri": "https://localhost:8080/",
          "height": 456
        },
        "id": "vQE2y4M3vR1P",
        "outputId": "46658f10-a900-4ded-abdf-1f91a24ef637"
      },
      "execution_count": null,
      "outputs": [
        {
          "output_type": "display_data",
          "data": {
            "text/plain": [
              "<IPython.core.display.HTML object>"
            ],
            "text/html": [
              "\n",
              "<style>\n",
              "    /* Turns off some styling */\n",
              "    progress {\n",
              "        /* gets rid of default border in Firefox and Opera. */\n",
              "        border: none;\n",
              "        /* Needs to be in here for Safari polyfill so background images work as expected. */\n",
              "        background-size: auto;\n",
              "    }\n",
              "    .progress-bar-interrupted, .progress-bar-interrupted::-webkit-progress-bar {\n",
              "        background: #F44336;\n",
              "    }\n",
              "</style>\n"
            ]
          },
          "metadata": {}
        },
        {
          "output_type": "display_data",
          "data": {
            "text/plain": [
              "<IPython.core.display.HTML object>"
            ],
            "text/html": [
              "<table border=\"1\" class=\"dataframe\">\n",
              "  <thead>\n",
              "    <tr style=\"text-align: left;\">\n",
              "      <th>epoch</th>\n",
              "      <th>train_loss</th>\n",
              "      <th>valid_loss</th>\n",
              "      <th>accuracy</th>\n",
              "      <th>f1_score</th>\n",
              "      <th>recall_score</th>\n",
              "      <th>precision_score</th>\n",
              "      <th>time</th>\n",
              "    </tr>\n",
              "  </thead>\n",
              "  <tbody>\n",
              "    <tr>\n",
              "      <td>0</td>\n",
              "      <td>0.394982</td>\n",
              "      <td>0.376750</td>\n",
              "      <td>0.987241</td>\n",
              "      <td>0.658172</td>\n",
              "      <td>0.619862</td>\n",
              "      <td>0.701530</td>\n",
              "      <td>02:21</td>\n",
              "    </tr>\n",
              "    <tr>\n",
              "      <td>1</td>\n",
              "      <td>0.374288</td>\n",
              "      <td>0.373421</td>\n",
              "      <td>0.988679</td>\n",
              "      <td>0.659095</td>\n",
              "      <td>0.552276</td>\n",
              "      <td>0.817143</td>\n",
              "      <td>02:22</td>\n",
              "    </tr>\n",
              "    <tr>\n",
              "      <td>2</td>\n",
              "      <td>0.373325</td>\n",
              "      <td>0.373296</td>\n",
              "      <td>0.988575</td>\n",
              "      <td>0.615526</td>\n",
              "      <td>0.461517</td>\n",
              "      <td>0.923799</td>\n",
              "      <td>02:17</td>\n",
              "    </tr>\n",
              "    <tr>\n",
              "      <td>3</td>\n",
              "      <td>0.373098</td>\n",
              "      <td>0.372631</td>\n",
              "      <td>0.989324</td>\n",
              "      <td>0.662636</td>\n",
              "      <td>0.529103</td>\n",
              "      <td>0.886322</td>\n",
              "      <td>02:10</td>\n",
              "    </tr>\n",
              "    <tr>\n",
              "      <td>4</td>\n",
              "      <td>0.373200</td>\n",
              "      <td>0.372692</td>\n",
              "      <td>0.989171</td>\n",
              "      <td>0.649194</td>\n",
              "      <td>0.505655</td>\n",
              "      <td>0.906528</td>\n",
              "      <td>02:09</td>\n",
              "    </tr>\n",
              "  </tbody>\n",
              "</table>"
            ]
          },
          "metadata": {}
        },
        {
          "output_type": "display_data",
          "data": {
            "text/plain": [
              "<Figure size 432x288 with 1 Axes>"
            ],
            "image/png": "[encoded data removed]"
          },
          "metadata": {}
        }
      ]
    },
    {
      "cell_type": "code",
      "source": [
        "#learn.export('drive/MyDrive/' + 'model.pkl')"
      ],
      "metadata": {
        "id": "EMNx-Auf1bZs"
      },
      "execution_count": null,
      "outputs": []
    },
    {
      "cell_type": "code",
      "source": [
        "X_train, y_train = to.train.xs, to.train.ys.values.ravel()\n",
        "x_val_nn, v_val_nn = to.valid.xs, to.valid.ys.values.ravel()\n",
        "test_dl = learn.dls.test_dl(df_train_valid[:indexes[-1]+1])\n",
        "predicted_df_nn, targs =  learn.get_preds(dl = test_dl)\n",
        "\n",
        "predicted = get_predictions_int(predicted_df_nn)\n",
        "plot_confusion_matrix(v_val_nn, predicted)"
      ],
      "metadata": {
        "colab": {
          "base_uri": "https://localhost:8080/",
          "height": 284
        },
        "id": "uoPha2gn6WD2",
        "outputId": "812a2811-5716-4b82-c922-7f4f84a30c10"
      },
      "execution_count": null,
      "outputs": [
        {
          "output_type": "display_data",
          "data": {
            "text/plain": [
              "<IPython.core.display.HTML object>"
            ],
            "text/html": [
              "\n",
              "<style>\n",
              "    /* Turns off some styling */\n",
              "    progress {\n",
              "        /* gets rid of default border in Firefox and Opera. */\n",
              "        border: none;\n",
              "        /* Needs to be in here for Safari polyfill so background images work as expected. */\n",
              "        background-size: auto;\n",
              "    }\n",
              "    .progress-bar-interrupted, .progress-bar-interrupted::-webkit-progress-bar {\n",
              "        background: #F44336;\n",
              "    }\n",
              "</style>\n"
            ]
          },
          "metadata": {}
        },
        {
          "output_type": "display_data",
          "data": {
            "text/plain": [
              "<IPython.core.display.HTML object>"
            ],
            "text/html": [
              ""
            ]
          },
          "metadata": {}
        },
        {
          "output_type": "display_data",
          "data": {
            "text/plain": [
              "<Figure size 432x288 with 2 Axes>"
            ],
            "image/png": "[encoded data removed]"
          },
          "metadata": {
            "needs_background": "light"
          }
        }
      ]
    },
    {
      "cell_type": "code",
      "source": [
        "probs = predicted_df_nn\n",
        "preds = probs[:,1]\n",
        "\n",
        "plot_signal_background(v_val_nn, preds)"
      ],
      "metadata": {
        "colab": {
          "base_uri": "https://localhost:8080/",
          "height": 521
        },
        "id": "_GnyflZH7JT7",
        "outputId": "a57919c8-140d-469d-8fab-98d83247b525"
      },
      "execution_count": null,
      "outputs": [
        {
          "output_type": "display_data",
          "data": {
            "text/plain": [
              "<Figure size 432x288 with 0 Axes>"
            ]
          },
          "metadata": {}
        },
        {
          "output_type": "display_data",
          "data": {
            "text/plain": [
              "<Figure size 864x576 with 1 Axes>"
            ],
            "image/png": "[encoded data removed]"
          },
          "metadata": {
            "needs_background": "light"
          }
        }
      ]
    },
    {
      "cell_type": "code",
      "source": [
        "plot_ROC_curve(v_val_nn, preds)"
      ],
      "metadata": {
        "colab": {
          "base_uri": "https://localhost:8080/",
          "height": 302
        },
        "id": "5aXxf2Tq6xzx",
        "outputId": "e9590668-e889-4512-9e4e-eb0955094c1f"
      },
      "execution_count": null,
      "outputs": [
        {
          "output_type": "display_data",
          "data": {
            "text/plain": [
              "<Figure size 432x288 with 1 Axes>"
            ],
            "image/png": "[encoded data removed]"
          },
          "metadata": {
            "needs_background": "light"
          }
        }
      ]
    },
    {
      "cell_type": "code",
      "source": [
        "print(\"Accuracy:\",accuracy_score(v_val_nn, predicted))"
      ],
      "metadata": {
        "colab": {
          "base_uri": "https://localhost:8080/"
        },
        "id": "rH83lv5v96ls",
        "outputId": "eede61fe-d1f3-4ab5-869d-a522c906c6c4"
      },
      "execution_count": null,
      "outputs": [
        {
          "output_type": "stream",
          "name": "stdout",
          "text": [
            "Accuracy: 0.9893072099799374\n"
          ]
        }
      ]
    }
  ]
}